{
 "cells": [
  {
   "cell_type": "markdown",
   "metadata": {},
   "source": [
    "# --- Day 3: Gear Ratios ---\n",
    "You and the Elf eventually reach a gondola lift station; he says the gondola lift will take you up to the water source, but this is as far as he can bring you. You go inside.\n",
    "\n",
    "It doesn't take long to find the gondolas, but there seems to be a problem: they're not moving.\n",
    "\n",
    "\"Aaah!\"\n",
    "\n",
    "You turn around to see a slightly-greasy Elf with a wrench and a look of surprise. \"Sorry, I wasn't expecting anyone! The gondola lift isn't working right now; it'll still be a while before I can fix it.\" You offer to help.\n",
    "\n",
    "The engineer explains that an engine part seems to be missing from the engine, but nobody can figure out which one. If you can add up all the part numbers in the engine schematic, it should be easy to work out which part is missing.\n",
    "\n",
    "The engine schematic (your puzzle input) consists of a visual representation of the engine. There are lots of numbers and symbols you don't really understand, but apparently any number adjacent to a symbol, even diagonally, is a \"part number\" and should be included in your sum. (Periods (.) do not count as a symbol.)\n",
    "\n",
    "Here is an example engine schematic:\n",
    "```\n",
    "467..114..\n",
    "...*......\n",
    "..35..633.\n",
    "......#...\n",
    "617*......\n",
    ".....+.58.\n",
    "..592.....\n",
    "......755.\n",
    "...$.*....\n",
    ".664.598..\n",
    "```\n",
    "In this schematic, two numbers are not part numbers because they are not adjacent to a symbol: 114 (top right) and 58 (middle right). Every other number is adjacent to a symbol and so is a part number; their sum is 4361.\n",
    "\n",
    "Of course, the actual engine schematic is much larger. What is the sum of all of the part numbers in the engine schematic?\n"
   ]
  },
  {
   "cell_type": "markdown",
   "metadata": {},
   "source": [
    "## Approach\n",
    "* Treat the data as a grid.\n",
    "* (x,y) being horizontal position and vertical position.\n",
    "* We check for a character that is not a period nor a number.\n",
    "    * Digit characters can be ~~converted into 1~~ left alone,\n",
    "    * Period characters can be converted into 0,\n",
    "    * Symbol characters can be converted into A\n",
    "* Positions are always equals or greater than 0 but less than the maximum number of positions.\n",
    "* We check for valid positions that are -1, 0, or +1 around the coordinates for a symbol that is not a period or number.\n",
    "* The checked position cannot be part of the original digits.\n",
    "\n",
    "### Example 1\n",
    "From the sample data, 467 does not have numbers above or to the left of it.\n",
    "The digits occupy positions (0,0) (1,0) (2,0).\n",
    "* (3,0) right \n",
    "* (0,1) below\n",
    "* (1,1) below\n",
    "* (2,1) below\n",
    "* (3,1) diagonal - where a symbol exists."
   ]
  },
  {
   "cell_type": "code",
   "execution_count": 14,
   "metadata": {},
   "outputs": [],
   "source": [
    "import re"
   ]
  },
  {
   "cell_type": "code",
   "execution_count": 15,
   "metadata": {},
   "outputs": [],
   "source": [
    "sampleData = '''467..114..\n",
    "...*......\n",
    "..35..633.\n",
    "......#...\n",
    "617*......\n",
    ".....+.58.\n",
    "..592.....\n",
    "......755.\n",
    "...$.*....\n",
    ".664.598..'''"
   ]
  },
  {
   "cell_type": "code",
   "execution_count": 51,
   "metadata": {},
   "outputs": [
    {
     "name": "stdout",
     "output_type": "stream",
     "text": [
      "4670011400\n",
      "000A000000\n",
      "0035006330\n",
      "000000A000\n",
      "617A000000\n",
      "00000A0580\n",
      "0059200000\n",
      "0000007550\n",
      "000A0A0000\n",
      "0664059800\n",
      "The size of the matrix is 10 by 10\n"
     ]
    }
   ],
   "source": [
    "heightOfGrid = 0\n",
    "widthOfGrid = 0\n",
    "for line in sampleData.splitlines():\n",
    "    # line = re.sub(r'\\d', \"1\", line)\n",
    "    line = re.sub(r'\\.', \"0\", line)\n",
    "    line = re.sub(r'\\D', \"A\", line)\n",
    "    heightOfGrid += 1 \n",
    "    widthOfGrid = len(line)\n",
    "    print(line)\n",
    "\n",
    "print(f'The size of the matrix is {widthOfGrid} by {heightOfGrid}')"
   ]
  },
  {
   "cell_type": "code",
   "execution_count": 53,
   "metadata": {},
   "outputs": [
    {
     "name": "stdout",
     "output_type": "stream",
     "text": [
      "match 1 on line 1 of length 3 start index 0 End index 3\n",
      "match 2 on line 1 of length 3 start index 5 End index 8\n",
      "match 3 on line 3 of length 2 start index 2 End index 4\n",
      "match 4 on line 3 of length 3 start index 6 End index 9\n",
      "match 5 on line 5 of length 3 start index 0 End index 3\n",
      "match 6 on line 6 of length 2 start index 7 End index 9\n",
      "match 7 on line 7 of length 3 start index 2 End index 5\n",
      "match 8 on line 8 of length 3 start index 6 End index 9\n",
      "match 9 on line 10 of length 3 start index 1 End index 4\n",
      "match 10 on line 10 of length 3 start index 5 End index 8\n"
     ]
    }
   ],
   "source": [
    "count = 0\n",
    "line = 0\n",
    "\n",
    "# Index where the digits start/end\n",
    "for digits in sampleData.splitlines():\n",
    "    line += 1\n",
    "    for match in re.finditer(r'\\d+', digits):\n",
    "        count += 1\n",
    "        print(\"match\", count, \"on line\", line, \"of length\", len(match.group()), \"start index\", match.start(), \"End index\", match.end())"
   ]
  },
  {
   "cell_type": "code",
   "execution_count": 50,
   "metadata": {},
   "outputs": [
    {
     "name": "stdout",
     "output_type": "stream",
     "text": [
      "match 1 on line 2 A start index 3 End index 4\n",
      "match 2 on line 4 A start index 6 End index 7\n",
      "match 3 on line 5 A start index 3 End index 4\n",
      "match 4 on line 6 A start index 5 End index 6\n",
      "match 5 on line 9 A start index 3 End index 4\n",
      "match 6 on line 9 A start index 5 End index 6\n"
     ]
    }
   ],
   "source": [
    "count = 0\n",
    "line = 0\n",
    "\n",
    "# Index where the symbols are\n",
    "for symbols in sampleData.splitlines():\n",
    "    line += 1\n",
    "    symbols = re.sub(r'\\.', \"0\", symbols)\n",
    "    symbols = re.sub(r'\\D', \"A\", symbols)\n",
    "    for match in re.finditer(r'A', symbols):\n",
    "        count += 1\n",
    "        print(\"match\", count, \"on line\", line, match.group(), \"start index\", match.start(), \"End index\", match.end())"
   ]
  },
  {
   "cell_type": "markdown",
   "metadata": {},
   "source": [
    "From the above we have the indicies where the digits begin/end and where the symbols are.\n",
    "\n",
    "Where the digits start, we look at positions N, NW, W, SW, and W.<br>\n",
    "Where the digits End, we look at positions N, NE, E, SE, and E.<br>\n",
    "For 3+ digits, in the middle, we look at positions N and S.\n",
    "\n",
    "We must do a check if the digits are at the edges of the matrix.\n",
    "\n",
    "Information needed:\n",
    "* Digits\n",
    "    * Start/end position\n",
    "    * Length\n",
    "* Position on Symbols\n",
    "    * Position\n",
    "\n",
    "Store the information into a dictionary:\n",
    "```python\n",
    "# For the digit dictionary\n",
    "digitDictionary = {\n",
    "    match.group()   : {\n",
    "        \"indexStart\"    : match.start()\n",
    "        \"indexEnd\"      : match.end()\n",
    "        \"indexLength\"   : len(match.group()) \n",
    "    },\n",
    "    \"467\"           : {\n",
    "        \"indexStart\"    : 0\n",
    "        \"indexEnd\"      : 3\n",
    "        \"indexLength\"   : 3\n",
    "    },\n",
    "    \"114\"           : {\n",
    "        \"indexStart\"    : 5\n",
    "        \"indexEnd\"      : 8\n",
    "        \"indexLength\"   : 3\n",
    "    }\n",
    "}\n",
    "\n",
    "# For the symbol dictionary\n",
    "synbolDictionary = {\n",
    "    count : match.start(),\n",
    "    \"1\"   : 3\n",
    "    \"2\"   : 7\n",
    "}\n",
    "```\n"
   ]
  },
  {
   "cell_type": "code",
   "execution_count": null,
   "metadata": {},
   "outputs": [],
   "source": []
  }
 ],
 "metadata": {
  "kernelspec": {
   "display_name": "Python 3",
   "language": "python",
   "name": "python3"
  },
  "language_info": {
   "codemirror_mode": {
    "name": "ipython",
    "version": 3
   },
   "file_extension": ".py",
   "mimetype": "text/x-python",
   "name": "python",
   "nbconvert_exporter": "python",
   "pygments_lexer": "ipython3",
   "version": "3.12.0"
  }
 },
 "nbformat": 4,
 "nbformat_minor": 2
}
