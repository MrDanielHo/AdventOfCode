{
 "cells": [
  {
   "cell_type": "markdown",
   "metadata": {},
   "source": [
    "\n",
    "# --- Day 2: I Was Told There Would Be No Math ---\n",
    "\n",
    "The elves are running low on wrapping paper, and so they need to submit an order for more. They have a list of the dimensions (length *l*, width *w*, and height *h*) of each present, and only want to order exactly as much as they need.\n",
    "\n",
    "Fortunately, every present is a box (a perfect right rectangular prism), which makes calculating the required wrapping paper for each gift a little easier:<br>\n",
    "Find the surface area of the box, which is 2\\**l*\\**w* + 2\\**w*\\**h* + 2\\**h*\\**l*. \n",
    "\n",
    "The elves also need a little extra paper for each present:<br>\n",
    "The area of the smallest side.\n"
   ]
  },
  {
   "cell_type": "markdown",
   "metadata": {},
   "source": [
    "\n",
    "For example:\n",
    "```\n",
    "    A present with dimensions 2x3x4 requires 2*6 + 2*12 + 2*8 = 52 square feet of wrapping paper plus 6 square feet of slack, for a total of 58 square feet.\n",
    "    A present with dimensions 1x1x10 requires 2*1 + 2*10 + 2*10 = 42 square feet of wrapping paper plus 1 square foot of slack, for a total of 43 square feet.\n",
    "```"
   ]
  },
  {
   "cell_type": "markdown",
   "metadata": {},
   "source": [
    "\n",
    "All numbers in the elves' list are in feet. How many total square feet of wrapping paper should they order?\n"
   ]
  },
  {
   "cell_type": "code",
   "execution_count": 1,
   "metadata": {},
   "outputs": [],
   "source": [
    "with open(r\"input/02.txt\") as f:\n",
    "    data = f.read()\n",
    "    f.close"
   ]
  },
  {
   "cell_type": "code",
   "execution_count": 8,
   "metadata": {},
   "outputs": [
    {
     "name": "stdout",
     "output_type": "stream",
     "text": [
      "1606483\n"
     ]
    }
   ],
   "source": [
    "wrappingPaper = 0\n",
    "for lines in data.splitlines():\n",
    "    dimensions = lines.split('x')\n",
    "    dimensions = [eval(i) for i in dimensions]\n",
    "    dimensions.sort()\n",
    "    surfaceArea = 3 * dimensions[0] * dimensions[1] + 2 * dimensions[1] * dimensions[2] + 2 * dimensions[0] * dimensions[2]\n",
    "    wrappingPaper += surfaceArea\n",
    "print(wrappingPaper)"
   ]
  },
  {
   "cell_type": "markdown",
   "metadata": {},
   "source": [
    "# --- Part Two ---\n",
    "\n",
    "The elves are also running low on ribbon. <br>\n",
    "Ribbon is all the same width, so they only have to worry about the length they need to order, which they would again like to be exact.\n",
    "\n",
    "The ribbon required to wrap a present is the shortest distance around its sides, or the smallest perimeter of any one face. <br>\n",
    "Each present also requires a bow made out of ribbon as well; the feet of ribbon required for the perfect bow is equal to the cubic feet of volume of the present. <br>\n",
    "Don't ask how they tie the bow, though; they'll never tell.\n"
   ]
  },
  {
   "cell_type": "markdown",
   "metadata": {},
   "source": [
    "\n",
    "For example:\n",
    "```\n",
    "    A present with dimensions 2x3x4 requires 2+2+3+3 = 10 feet of ribbon to wrap the present plus 2*3*4 = 24 feet of ribbon for the bow, for a total of 34 feet.\n",
    "    A present with dimensions 1x1x10 requires 1+1+1+1 = 4 feet of ribbon to wrap the present plus 1*1*10 = 10 feet of ribbon for the bow, for a total of 14 feet.\n",
    "```"
   ]
  },
  {
   "cell_type": "markdown",
   "metadata": {},
   "source": [
    "\n",
    "How many total feet of ribbon should they order?\n"
   ]
  },
  {
   "cell_type": "code",
   "execution_count": 9,
   "metadata": {},
   "outputs": [
    {
     "name": "stdout",
     "output_type": "stream",
     "text": [
      "3842356\n"
     ]
    }
   ],
   "source": [
    "ribbonOrder = 0\n",
    "for lines in data.splitlines():\n",
    "    dimensions = lines.split('x')\n",
    "    dimensions = [eval(i) for i in dimensions]\n",
    "    dimensions.sort()\n",
    "    totalDistance = 2 * (dimensions[0] + dimensions[1]) +dimensions[0] * dimensions[1] * dimensions[2]\n",
    "    ribbonOrder += totalDistance\n",
    "print(ribbonOrder)"
   ]
  }
 ],
 "metadata": {
  "kernelspec": {
   "display_name": "Python 3",
   "language": "python",
   "name": "python3"
  },
  "language_info": {
   "codemirror_mode": {
    "name": "ipython",
    "version": 3
   },
   "file_extension": ".py",
   "mimetype": "text/x-python",
   "name": "python",
   "nbconvert_exporter": "python",
   "pygments_lexer": "ipython3",
   "version": "3.12.0"
  }
 },
 "nbformat": 4,
 "nbformat_minor": 2
}
