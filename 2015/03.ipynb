{
 "cells": [
  {
   "cell_type": "markdown",
   "metadata": {},
   "source": [
    "# --- Day 3: Perfectly Spherical Houses in a Vacuum ---\n",
    "\n",
    "Santa is delivering presents to an infinite two-dimensional grid of houses.\n",
    "\n",
    "He begins by delivering a present to the house at his starting location, and then an elf at the North Pole calls him via radio and tells him where to move next. <br>\n",
    "Moves are always exactly one house to the north (^), south (v), east (>), or west (<). <br>\n",
    "After each move, he delivers another present to the house at his new location.\n"
   ]
  },
  {
   "cell_type": "markdown",
   "metadata": {},
   "source": [
    "\n",
    "However, the elf back at the north pole has had a little too much eggnog, and so his directions are a little off, and Santa ends up visiting some houses more than once. <br>\n",
    "How many houses receive at least one present?\n"
   ]
  },
  {
   "cell_type": "markdown",
   "metadata": {},
   "source": [
    "\n",
    "For example:\n",
    "```\n",
    "    > delivers presents to 2 houses: one at the starting location, and one to the east.\n",
    "    ^>v< delivers presents to 4 houses in a square, including twice to the house at his starting/ending location.\n",
    "    ^v^v^v^v^v delivers a bunch of presents to some very lucky children at only 2 houses.\n",
    "```"
   ]
  },
  {
   "cell_type": "code",
   "execution_count": 1,
   "metadata": {},
   "outputs": [],
   "source": [
    "with open(r\"input/03.txt\") as f:\n",
    "    data = f.read()\n",
    "    f.close"
   ]
  },
  {
   "cell_type": "code",
   "execution_count": 2,
   "metadata": {},
   "outputs": [],
   "source": [
    "sampleData1  = '>'\n",
    "sampleData2  = '^>v<'\n",
    "sampleData3  = '^v^v^v^v^v'"
   ]
  },
  {
   "cell_type": "code",
   "execution_count": 3,
   "metadata": {},
   "outputs": [],
   "source": [
    "def part1(dataInput):\n",
    "    directionalMap = []\n",
    "    houseCounter = 0\n",
    "    for directions in dataInput:\n",
    "        if len(dataInput) == 1:\n",
    "            return 2\n",
    "        else: \n",
    "            if len(directionalMap) <= 4:\n",
    "                directionalMap.append(directions)\n",
    "                houseCounter += 1\n",
    "            else:\n",
    "                directionalMap.append(directions)\n",
    "                houseCounter += 1\n",
    "                if directionalMap[-1] == directionalMap[-3] and directionalMap[-2] == directionalMap[-4]:\n",
    "                    del directionalMap[-5:-1]\n",
    "    return len(directionalMap)\n"
   ]
  },
  {
   "cell_type": "code",
   "execution_count": 4,
   "metadata": {},
   "outputs": [],
   "source": [
    "# houseCounter = 0\n",
    "# inputMap = []\n",
    "# backForth = 0\n",
    "\n",
    "# for directions in sampleData2:\n",
    "#     if len(sampleData2) == 1:\n",
    "#         houseCounter = 2\n",
    "#     else: \n",
    "#         if len(inputMap) <= 4:\n",
    "#             inputMap.append(directions)\n",
    "#             houseCounter += 1\n",
    "#         else:\n",
    "#             inputMap.append(directions)\n",
    "#             houseCounter += 1\n",
    "#             if inputMap[-1] == inputMap[-3] and inputMap[-2] == inputMap[-4]:\n",
    "#                 del inputMap[-5:-1]\n",
    "#                 print(inputMap)\n",
    "#     print(len(inputMap))"
   ]
  },
  {
   "cell_type": "code",
   "execution_count": 5,
   "metadata": {},
   "outputs": [
    {
     "name": "stdout",
     "output_type": "stream",
     "text": [
      "2\n",
      "4\n",
      "5\n"
     ]
    }
   ],
   "source": [
    "print(part1(sampleData1))\n",
    "print(part1(sampleData2))\n",
    "print(part1(sampleData3))"
   ]
  },
  {
   "cell_type": "code",
   "execution_count": 6,
   "metadata": {},
   "outputs": [
    {
     "name": "stdout",
     "output_type": "stream",
     "text": [
      "6203\n"
     ]
    }
   ],
   "source": [
    "print(part1(data))"
   ]
  },
  {
   "cell_type": "code",
   "execution_count": 7,
   "metadata": {},
   "outputs": [
    {
     "name": "stdout",
     "output_type": "stream",
     "text": [
      "2591\n"
     ]
    }
   ],
   "source": [
    "\n",
    "deliveryMap = []\n",
    "houseCoordinate = {'x': 0, 'y': 0}\n",
    "for direction in data:\n",
    "    x = 0\n",
    "    y = 0\n",
    "    if direction == '>':\n",
    "        x = houseCoordinate['x'] + 1\n",
    "        houseCoordinate.update({'x': x})\n",
    "                 \n",
    "    elif direction == '<':\n",
    "        x = houseCoordinate['x'] - 1\n",
    "        houseCoordinate.update({'x': x})\n",
    "\n",
    "    elif direction == '^':\n",
    "        y = houseCoordinate['y'] + 1\n",
    "        houseCoordinate.update({'y': y})\n",
    "\n",
    "    elif direction == 'v':\n",
    "        y = houseCoordinate['y'] - 1\n",
    "        houseCoordinate.update({'y': y})\n",
    "    coordinates = houseCoordinate['x'] , houseCoordinate['y']\n",
    "    deliveryMap.append(coordinates)\n",
    "\n",
    "deliveryMap = (set(deliveryMap))\n",
    "print(len(deliveryMap))\n",
    "\n"
   ]
  },
  {
   "cell_type": "code",
   "execution_count": 8,
   "metadata": {},
   "outputs": [],
   "source": [
    "# data = data.replace('>', 'E ')\n",
    "# data = data.replace('<', 'W ')\n",
    "# data = data.replace('^', 'N ')\n",
    "# data = data.replace('v', 'S ')\n",
    "\n",
    "# x = 0\n",
    "# y = 0\n",
    "# coordinates = [x, y]\n",
    "\n",
    "# deliveryMap = []\n",
    "# for direction in data:      \n",
    "#     deliveryMap.append(direction)\n",
    "#     print(direction)\n",
    "#     if len(deliveryMap) >= 3:\n",
    "#         if deliveryMap[-3] + deliveryMap[-2] + deliveryMap[-1] == '<><':\n",
    "#             print('Double presents.')\n",
    "#             houseCounter -= 1\n",
    "#         elif deliveryMap[-3] + deliveryMap[-2] + deliveryMap[-1] == '><>':\n",
    "#             print('Double presents.')\n",
    "#             houseCounter -= 1\n",
    "#         elif deliveryMap[-3] + deliveryMap[-2] + deliveryMap[-1] == '^v^':\n",
    "#             print('Double presents.')\n",
    "#             houseCounter -= 1\n",
    "#         elif deliveryMap[-3] + deliveryMap[-2] + deliveryMap[-1] == 'v^v':\n",
    "#             print('Double presents.')\n",
    "#             houseCounter -= 1\n",
    "#         else:\n",
    "#             houseCounter += 1\n",
    "#         print(deliveryMap[-3], deliveryMap[-2], deliveryMap[-1])\n",
    "        \n",
    "\n",
    "# print(houseCounter)\n",
    "    # if movement == 'E':\n",
    "    #     x += 1\n",
    "    # elif movement == 'W':\n",
    "    #     x -= 1\n",
    "    # elif movement == 'N':\n",
    "    #     y += 1\n",
    "    # elif movement == 'S':\n",
    "    #     y -= 1\n",
    "    # coordinates = x, y\n",
    "    # print(coordinates)"
   ]
  }
 ],
 "metadata": {
  "kernelspec": {
   "display_name": "Python 3",
   "language": "python",
   "name": "python3"
  },
  "language_info": {
   "codemirror_mode": {
    "name": "ipython",
    "version": 3
   },
   "file_extension": ".py",
   "mimetype": "text/x-python",
   "name": "python",
   "nbconvert_exporter": "python",
   "pygments_lexer": "ipython3",
   "version": "3.12.0"
  }
 },
 "nbformat": 4,
 "nbformat_minor": 2
}
