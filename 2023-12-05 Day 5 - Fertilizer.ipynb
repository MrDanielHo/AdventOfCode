{
 "cells": [
  {
   "cell_type": "markdown",
   "metadata": {},
   "source": [
    "# --- Day 5: If You Give A Seed A Fertilizer ---\n",
    "You take the boat and find the gardener right where you were told he would be: managing a giant \"garden\" that looks more to you like a farm.\n",
    "\n",
    "\"A water source? Island Island is the water source!\" You point out that Snow Island isn't receiving any water.\n",
    "\n",
    "\"Oh, we had to stop the water because we ran out of sand to filter it with! Can't make snow with dirty water. Don't worry, I'm sure we'll get more sand soon; we only turned off the water a few days... weeks... oh no.\" His face sinks into a look of horrified realization.\n",
    "\n",
    "\"I've been so busy making sure everyone here has food that I completely forgot to check why we stopped getting more sand! There's a ferry leaving soon that is headed over in that direction - it's much faster than your boat. Could you please go check it out?\"\n",
    "\n",
    "You barely have time to agree to this request when he brings up another. \"While you wait for the ferry, maybe you can help us with our food production problem. The latest Island Island Almanac just arrived and we're having trouble making sense of it.\""
   ]
  },
  {
   "cell_type": "markdown",
   "metadata": {},
   "source": [
    "\n",
    "The almanac (your puzzle input) lists all of the seeds that need to be planted. It also lists what type of soil to use with each kind of seed, what type of fertilizer to use with each kind of soil, what type of water to use with each kind of fertilizer, and so on. Every type of seed, soil, fertilizer and so on is identified with a number, but numbers are reused by each category - that is, soil 123 and fertilizer 123 aren't necessarily related to each other.\n",
    "```\n",
    "For example:\n",
    "\n",
    "seeds: 79 14 55 13\n",
    "\n",
    "seed-to-soil map:\n",
    "50 98 2\n",
    "52 50 48\n",
    "\n",
    "soil-to-fertilizer map:\n",
    "0 15 37\n",
    "37 52 2\n",
    "39 0 15\n",
    "\n",
    "fertilizer-to-water map:\n",
    "49 53 8\n",
    "0 11 42\n",
    "42 0 7\n",
    "57 7 4\n",
    "\n",
    "water-to-light map:\n",
    "88 18 7\n",
    "18 25 70\n",
    "\n",
    "light-to-temperature map:\n",
    "45 77 23\n",
    "81 45 19\n",
    "68 64 13\n",
    "\n",
    "temperature-to-humidity map:\n",
    "0 69 1\n",
    "1 0 69\n",
    "\n",
    "humidity-to-location map:\n",
    "60 56 37\n",
    "56 93 4\n",
    "```"
   ]
  },
  {
   "cell_type": "markdown",
   "metadata": {},
   "source": [
    "\n",
    "The almanac starts by listing which seeds need to be planted: seeds 79, 14, 55, and 13.\n",
    "\n",
    "The rest of the almanac contains a list of maps which describe how to convert numbers from a source category into numbers in a destination category. That is, the section that starts with seed-to-soil map: describes how to convert a seed number (the source) to a soil number (the destination). This lets the gardener and his team know which soil to use with which seeds, which water to use with which fertilizer, and so on.\n",
    "\n",
    "Rather than list every source number and its corresponding destination number one by one, the maps describe entire ranges of numbers that can be converted. Each line within a map contains three numbers: the destination range start, the source range start, and the range length."
   ]
  },
  {
   "cell_type": "markdown",
   "metadata": {},
   "source": [
    "\n",
    "Consider again the example seed-to-soil map:\n",
    "```\n",
    "50 98 2\n",
    "52 50 48\n",
    "```\n",
    "The first line has a destination range start of 50, a source range start of 98, and a range length of 2. This line means that the source range starts at 98 and contains two values: 98 and 99. The destination range is the same length, but it starts at 50, so its two values are 50 and 51. With this information, you know that seed number 98 corresponds to soil number 50 and that seed number 99 corresponds to soil number 51.\n",
    "\n",
    "The second line means that the source range starts at 50 and contains 48 values: 50, 51, ..., 96, 97. This corresponds to a destination range starting at 52 and also containing 48 values: 52, 53, ..., 98, 99. So, seed number 53 corresponds to soil number 55.\n",
    "\n",
    "Any source numbers that aren't mapped correspond to the same destination number. So, seed number 10 corresponds to soil number 10.\n"
   ]
  },
  {
   "cell_type": "markdown",
   "metadata": {},
   "source": [
    "\n",
    "So, the entire list of seed numbers and their corresponding soil numbers looks like this:\n",
    "```\n",
    "seed  soil\n",
    "0     0\n",
    "1     1\n",
    "...   ...\n",
    "48    48\n",
    "49    49\n",
    "50    52\n",
    "51    53\n",
    "...   ...\n",
    "96    98\n",
    "97    99\n",
    "98    50\n",
    "99    51\n",
    "```"
   ]
  },
  {
   "cell_type": "markdown",
   "metadata": {},
   "source": [
    "With this map, you can look up the soil number required for each initial seed number:\n",
    "\n",
    "- Seed number 79 corresponds to soil number 81.\n",
    "- Seed number 14 corresponds to soil number 14.\n",
    "- Seed number 55 corresponds to soil number 57.\n",
    "- Seed number 13 corresponds to soil number 13.\n",
    "\n"
   ]
  },
  {
   "cell_type": "markdown",
   "metadata": {},
   "source": [
    "The gardener and his team want to get started as soon as possible, so they'd like to know the closest location that needs a seed. Using these maps, find the lowest location number that corresponds to any of the initial seeds. To do this, you'll need to convert each seed number through other categories until you can find its corresponding location number. In this example, the corresponding types are:\n",
    "\n",
    "* Seed 79, soil 81, fertilizer 81, water 81, light 74, temperature 78, humidity 78, location 82.\n",
    "* Seed 14, soil 14, fertilizer 53, water 49, light 42, temperature 42, humidity 43, location 43.\n",
    "* Seed 55, soil 57, fertilizer 57, water 53, light 46, temperature 82, humidity 82, location 86.\n",
    "* Seed 13, soil 13, fertilizer 52, water 41, light 34, temperature 34, humidity 35, location 35.\n",
    "\n",
    "So, the lowest location number in this example is 35.\n",
    "\n"
   ]
  },
  {
   "cell_type": "markdown",
   "metadata": {},
   "source": [
    "What is the lowest location number that corresponds to any of the initial seed numbers?"
   ]
  },
  {
   "cell_type": "code",
   "execution_count": 1,
   "metadata": {},
   "outputs": [],
   "source": [
    "import re"
   ]
  },
  {
   "cell_type": "code",
   "execution_count": 2,
   "metadata": {},
   "outputs": [],
   "source": [
    "sampleData = '''seeds: 79 14 55 13\n",
    "\n",
    "seed-to-soil map:\n",
    "50 98 2\n",
    "52 50 48\n",
    "\n",
    "soil-to-fertilizer map:\n",
    "0 15 37\n",
    "37 52 2\n",
    "39 0 15\n",
    "\n",
    "fertilizer-to-water map:\n",
    "49 53 8\n",
    "0 11 42\n",
    "42 0 7\n",
    "57 7 4\n",
    "\n",
    "water-to-light map:\n",
    "88 18 7\n",
    "18 25 70\n",
    "\n",
    "light-to-temperature map:\n",
    "45 77 23\n",
    "81 45 19\n",
    "68 64 13\n",
    "\n",
    "temperature-to-humidity map:\n",
    "0 69 1\n",
    "1 0 69\n",
    "\n",
    "humidity-to-location map:\n",
    "60 56 37\n",
    "56 93 4'''"
   ]
  },
  {
   "cell_type": "code",
   "execution_count": 3,
   "metadata": {},
   "outputs": [],
   "source": [
    "# proccessedData = sampleData.split(\"\\n\\n\")\n",
    "# for entry in proccessedData:\n",
    "#     print(entry)"
   ]
  },
  {
   "cell_type": "code",
   "execution_count": 4,
   "metadata": {},
   "outputs": [],
   "source": [
    "# proccessedData[-1].split(':')"
   ]
  },
  {
   "cell_type": "code",
   "execution_count": 5,
   "metadata": {},
   "outputs": [],
   "source": [
    "# dataDictionary = {}\n",
    "# for entry in proccessedData:\n",
    "#     key, value = entry.split(':')\n",
    "#     dataDictionary[key] = [value]\n",
    "\n",
    "# print(dataDictionary)"
   ]
  },
  {
   "cell_type": "code",
   "execution_count": 6,
   "metadata": {},
   "outputs": [],
   "source": [
    "# dataDictionary['seeds']"
   ]
  },
  {
   "cell_type": "code",
   "execution_count": 7,
   "metadata": {},
   "outputs": [],
   "source": [
    "# dataDictionary['seed-to-soil map'][0].split('\\n')"
   ]
  },
  {
   "cell_type": "code",
   "execution_count": 8,
   "metadata": {},
   "outputs": [
    {
     "data": {
      "text/plain": [
       "[('seeds', ' 79 14 55 13', ' 13'),\n",
       " ('seed-to-soil map', '\\n50 98 2\\n52 50 48', ' 48'),\n",
       " ('soil-to-fertilizer map', '\\n0 15 37\\n37 52 2\\n39 0 15', ' 15'),\n",
       " ('fertilizer-to-water map', '\\n49 53 8\\n0 11 42\\n42 0 7\\n57 7 4', ' 4'),\n",
       " ('water-to-light map', '\\n88 18 7\\n18 25 70', ' 70'),\n",
       " ('light-to-temperature map', '\\n45 77 23\\n81 45 19\\n68 64 13', ' 13'),\n",
       " ('temperature-to-humidity map', '\\n0 69 1\\n1 0 69', ' 69'),\n",
       " ('humidity-to-location map', '\\n60 56 37\\n56 93 4', ' 4')]"
      ]
     },
     "execution_count": 8,
     "metadata": {},
     "output_type": "execute_result"
    }
   ],
   "source": [
    "processedData = re.findall(r'(.*)(?::)((\\s\\d+)+)',sampleData)\n",
    "processedData"
   ]
  },
  {
   "cell_type": "code",
   "execution_count": 9,
   "metadata": {},
   "outputs": [
    {
     "data": {
      "text/plain": [
       "['50', '98', '2', '52', '50', '48']"
      ]
     },
     "execution_count": 9,
     "metadata": {},
     "output_type": "execute_result"
    }
   ],
   "source": [
    "# processedData[0][0]\n",
    "re.findall(r'\\d+',processedData[1][1])"
   ]
  },
  {
   "cell_type": "code",
   "execution_count": 10,
   "metadata": {},
   "outputs": [
    {
     "data": {
      "text/plain": [
       "[('50', '98', '2'), ('52', '50', '48')]"
      ]
     },
     "execution_count": 10,
     "metadata": {},
     "output_type": "execute_result"
    }
   ],
   "source": [
    "re.findall(r'(\\d+)(?:\\s)(\\d+)(?:\\s)(\\d+)',processedData[1][1])"
   ]
  },
  {
   "cell_type": "code",
   "execution_count": 12,
   "metadata": {},
   "outputs": [
    {
     "name": "stdout",
     "output_type": "stream",
     "text": [
      "seeds\n",
      "['79', '14', '55', '13']\n",
      "seed-to-soil map\n",
      "['50', '98', '2', '52', '50', '48']\n",
      "soil-to-fertilizer map\n",
      "['0', '15', '37', '37', '52', '2', '39', '0', '15']\n",
      "fertilizer-to-water map\n",
      "['49', '53', '8', '0', '11', '42', '42', '0', '7', '57', '7', '4']\n",
      "water-to-light map\n",
      "['88', '18', '7', '18', '25', '70']\n",
      "light-to-temperature map\n",
      "['45', '77', '23', '81', '45', '19', '68', '64', '13']\n",
      "temperature-to-humidity map\n",
      "['0', '69', '1', '1', '0', '69']\n",
      "humidity-to-location map\n",
      "['60', '56', '37', '56', '93', '4']\n"
     ]
    }
   ],
   "source": [
    "# dataDictionary = {}\n",
    "for value1 in processedData:\n",
    "    print(value1[0])\n",
    "    print(re.findall(r'(\\d+)', value1[1]))\n",
    "    # for value2 in value1:\n",
    "    #     print(value2)\n",
    "    # dataDictionary[value1[0]] = value1[1]\n",
    "\n",
    "# print(dataDictionary)"
   ]
  },
  {
   "cell_type": "markdown",
   "metadata": {},
   "source": [
    "Iteraete though the seeds:\n",
    "1. SEED: We look at the `targetNumber` ***`79`*** on the first set.\n",
    "2. SEED TO SOIL: Determine where the number is positioned.\n",
    "    * First number is destination range start `50`\n",
    "    * Second number is source range start `98`\n",
    "    * Third number is range length `2`\n",
    "    * `79` is located in the second set of numbers: `52 50 48`\n",
    "        * Our `targetNumber` is found within `50 +48` with a difference of `52 -50` \n",
    "        * Therefore our `destinationNumber` is `79 -2` ***`81`***\n",
    "3. SOIL TO FERT: Because our number sets are outside our `targetNumber` and has no corresponding `destinationNumber`, the target is the destination ***`81`***\n",
    "4. FERT TO WATER: ***`81`***\n",
    "5. WATER TO LIGHT: mapping `18 25 70` therefore -7 ***`74`***\n",
    "6. LIGHT TO TEMP: mapping `68 64 13` therefore +4 ***`78`***\n",
    "7. TEMP TO HUMID: mapping `N/A` therefore +0 ***`78`***\n",
    "8. HUMID TO LOCALE: mapping `60 56 37` therefore ***`82`***"
   ]
  },
  {
   "cell_type": "markdown",
   "metadata": {},
   "source": [
    "~~We will need to generate all ranges of all the maps.~~<br>\n",
    "We do not need to generate the full matrix.<br>\n",
    "We generate the numbers where the ranges exist, where the number is not found we can return the same number.<br>\n",
    "\n",
    "```\n",
    "destinationNumber / sourceNumber / rangeLength\n",
    "```\n",
    "\n",
    "```python\n",
    "def NumberChecker(targetNumber, numberList):\n",
    "    destinationNumber, sourceNumber, rangeLength = numberList\n",
    "    if targetNumber > sourceNumber and targetNumber <= (sourceNumber + rangeLength)\n",
    "        targetNumber = targetNumber - sourceNumber + destinationNumber\n",
    "        return targetNumber\n",
    "    else:\n",
    "        recursive\n",
    "\n",
    "# When the list has been exhausted\n",
    "targetNumber = nextSourceNumber\n",
    "```"
   ]
  },
  {
   "cell_type": "code",
   "execution_count": null,
   "metadata": {},
   "outputs": [],
   "source": []
  },
  {
   "cell_type": "code",
   "execution_count": null,
   "metadata": {},
   "outputs": [],
   "source": []
  }
 ],
 "metadata": {
  "kernelspec": {
   "display_name": "Python 3",
   "language": "python",
   "name": "python3"
  },
  "language_info": {
   "codemirror_mode": {
    "name": "ipython",
    "version": 3
   },
   "file_extension": ".py",
   "mimetype": "text/x-python",
   "name": "python",
   "nbconvert_exporter": "python",
   "pygments_lexer": "ipython3",
   "version": "3.9.2"
  }
 },
 "nbformat": 4,
 "nbformat_minor": 2
}
