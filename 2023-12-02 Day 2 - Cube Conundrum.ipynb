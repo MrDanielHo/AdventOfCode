{
 "cells": [
  {
   "cell_type": "markdown",
   "metadata": {},
   "source": [
    "### --- Day 2: Cube Conundrum ---\n",
    "\n",
    "You're launched high into the atmosphere! <br>\n",
    "The apex of your trajectory just barely reaches the surface of a large island floating in the sky. <br>\n",
    "You gently land in a fluffy pile of leaves. <br>\n",
    "It's quite cold, but you don't see much snow. <br>\n",
    "An Elf runs over to greet you.\n",
    "\n",
    "The Elf explains that you've arrived at **Snow Island** and apologizes for the lack of snow. <br>\n",
    "He'll be happy to explain the situation, but it's a bit of a walk, so you have some time. <br>\n",
    "They don't get many visitors up here; would you like to play a game in the meantime?\n",
    "\n",
    "As you walk, the Elf shows you a small bag and some cubes which are either red, green, or blue. <br>\n",
    "Each time you play this game, he will hide a secret number of cubes of each color in the bag, and your goal is to figure out information about the number of cubes.\n",
    "\n",
    "To get information, once a bag has been loaded with cubes, the Elf will reach into the bag, grab a handful of random cubes, show them to you, and then put them back in the bag. <br>\n",
    "He'll do this a few times per game.\n",
    "\n",
    "You play several games and record the information from each game (your puzzle input). <br>\n",
    "Each game is listed with its ID number (like the `11` in `Game 11: ...`) followed by a semicolon-separated list of subsets of cubes that were revealed from the bag (like 3 red, 5 green, 4 blue).\n",
    "\n",
    "For example, the record of a few games might look like this:\n",
    "```\n",
    "Game 1: 3 blue, 4 red; 1 red, 2 green, 6 blue; 2 green\n",
    "Game 2: 1 blue, 2 green; 3 green, 4 blue, 1 red; 1 green, 1 blue\n",
    "Game 3: 8 green, 6 blue, 20 red; 5 blue, 4 red, 13 green; 5 green, 1 red\n",
    "Game 4: 1 green, 3 red, 6 blue; 3 green, 6 red; 3 green, 15 blue, 14 red\n",
    "Game 5: 6 red, 1 blue, 3 green; 2 blue, 1 red, 2 green\n",
    "```\n",
    "In game 1, three sets of cubes are revealed from the bag (and then put back again). <br>\n",
    "The first set is 3 blue cubes and 4 red cubes; the second set is 1 red cube, 2 green cubes, and 6 blue cubes; the third set is only 2 green cubes.\n",
    "\n",
    "The Elf would first like to know which games would have been possible if the bag contained **only 12 red cubes, 13 green cubes, and 14 blue cubes**?\n",
    "\n",
    "In the example above, games 1, 2, and 5 would have been **possible** if the bag had been loaded with that configuration. <br>\n",
    "However, game 3 would have been **impossible** because at one point the Elf showed you 20 red cubes at once; similarly, game 4 would also have been impossible because the Elf showed you 15 blue cubes at once. <br>\n",
    "If you add up the IDs of the games that would have been possible, you get **`8`**.\n",
    "\n",
    "Determine which games would have been possible if the bag had been loaded with only 12 red cubes, 13 green cubes, and 14 blue cubes. <br>\n",
    "**What is the sum of the IDs of those games?**\n"
   ]
  },
  {
   "cell_type": "markdown",
   "metadata": {},
   "source": [
    "## Approach\n",
    "Game IDs with the number of cubes less that 12 red, 13 green, and 14 blue can only be valid.<br>\n",
    "Therefore if there is a number greater than the above, we can invalidate the ID.<br>\n",
    "\n",
    "Index the ID, if a subset of games is greater than the given amount, skip and move on.<br>\n",
    "If the line is valid, add it to the ID sum total. \n",
    "\n",
    "Seperate games by line, picks by semicolon, cubes by comma."
   ]
  },
  {
   "cell_type": "code",
   "execution_count": 17,
   "metadata": {},
   "outputs": [],
   "source": [
    "import re"
   ]
  },
  {
   "cell_type": "code",
   "execution_count": 18,
   "metadata": {},
   "outputs": [],
   "source": [
    "sampledata = '''Game 1: 3 blue, 4 red; 1 red, 2 green, 6 blue; 2 green\n",
    "Game 2: 1 blue, 2 green; 3 green, 4 blue, 1 red; 1 green, 1 blue\n",
    "Game 3: 8 green, 6 blue, 20 red; 5 blue, 4 red, 13 green; 5 green, 1 red\n",
    "Game 4: 1 green, 3 red, 6 blue; 3 green, 6 red; 3 green, 15 blue, 14 red\n",
    "Game 5: 6 red, 1 blue, 3 green; 2 blue, 1 red, 2 green'''"
   ]
  },
  {
   "cell_type": "code",
   "execution_count": 82,
   "metadata": {},
   "outputs": [
    {
     "name": "stdout",
     "output_type": "stream",
     "text": [
      "The first draw: Game 1: 3 blue, 4 red; 1 red, 2 green, 6 blue; 2 green\n",
      "The game id is: ['Game', '1:', '3', 'blue,', '4', 'red;', '1', 'red,', '2', 'green,', '6', 'blue;', '2', 'green']\n",
      "[' 3 blue, 4 red', ' 1 red, 2 green, 6 blue', ' 2 green']\n"
     ]
    }
   ],
   "source": [
    "REDCUBES = 12\n",
    "GRNCUBES = 13\n",
    "BLUCUBES = 14\n",
    "\n",
    "'''\n",
    "Seperate between game and new line\n",
    "'''\n",
    "\n",
    "def getLine(input):\n",
    "    for line in input.splitlines():\n",
    "        return line\n",
    "\n",
    "def getGameIdentification(lines):\n",
    "    return lines.split(' ')\n",
    "    \n",
    "def getSubsetCubes(cubesDrawn):\n",
    "    games = cubesDrawn.split(':')\n",
    "    games = games[1].split(';')\n",
    "    return games\n",
    "    \n",
    "\n",
    "def getCubes(listCubesDrawn):\n",
    "    return listCubesDrawn.split(\",\")\n",
    "    \n",
    "\n",
    "\n",
    "game = getLine(sampledata)\n",
    "print(f'The first draw: {game}')\n",
    "print(f'The game id is: {getGameIdentification(game)}')\n",
    "gamesSet = getSubsetCubes(game)\n",
    "print(gamesSet)\n",
    "# print(getCubes(gamesSet))\n",
    "\n",
    "\n",
    "\n",
    "# for line in sampledata.splitlines(): # Seperate the lines\n",
    "#     line = line.split('Game ')\n",
    "#     for gameId in line.split(':'):\n",
    "#         gameId = line[0]\n",
    "#         setsCubes = line[1]\n",
    "#         for subsetCubes in setsCubes.split(';'):\n",
    "#             dictionaryCubes = {}\n",
    "#             for colourCubes in subsetCubes.split(\", \"):\n",
    "#                 dictionaryCubes[colourCubes[1]] = colourCubes[0]\n",
    "#                 if \n",
    "                "
   ]
  },
  {
   "cell_type": "code",
   "execution_count": null,
   "metadata": {},
   "outputs": [],
   "source": [
    "\n",
    "'''\n",
    "Game ID\n",
    "\n",
    "(?>Game )(?<Game_ID>\\d)\n",
    "'''\n",
    "\n",
    "'''\n",
    "Seperate by colon and semicolon\n",
    ".split(\", \")\n",
    "\n",
    "'''\n",
    "\n",
    "'''\n",
    "Seperate by cube\n",
    "(\\d+\\s\\w+)\n",
    "'''\n",
    "\n",
    "'''\n",
    "Check if the cubes pulled and greater than cubes held\n",
    "'''\n"
   ]
  }
 ],
 "metadata": {
  "kernelspec": {
   "display_name": "Python 3",
   "language": "python",
   "name": "python3"
  },
  "language_info": {
   "codemirror_mode": {
    "name": "ipython",
    "version": 3
   },
   "file_extension": ".py",
   "mimetype": "text/x-python",
   "name": "python",
   "nbconvert_exporter": "python",
   "pygments_lexer": "ipython3",
   "version": "3.12.0"
  }
 },
 "nbformat": 4,
 "nbformat_minor": 2
}
