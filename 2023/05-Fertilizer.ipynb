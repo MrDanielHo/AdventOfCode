{
 "cells": [
  {
   "cell_type": "markdown",
   "metadata": {},
   "source": [
    "# --- Day 5: If You Give A Seed A Fertilizer ---\n",
    "You take the boat and find the gardener right where you were told he would be: managing a giant \"garden\" that looks more to you like a farm.\n",
    "\n",
    "\"A water source? Island Island is the water source!\" You point out that Snow Island isn't receiving any water.\n",
    "\n",
    "\"Oh, we had to stop the water because we ran out of sand to filter it with! Can't make snow with dirty water. Don't worry, I'm sure we'll get more sand soon; we only turned off the water a few days... weeks... oh no.\" His face sinks into a look of horrified realization.\n",
    "\n",
    "\"I've been so busy making sure everyone here has food that I completely forgot to check why we stopped getting more sand! There's a ferry leaving soon that is headed over in that direction - it's much faster than your boat. Could you please go check it out?\"\n",
    "\n",
    "You barely have time to agree to this request when he brings up another. \"While you wait for the ferry, maybe you can help us with our food production problem. The latest Island Island Almanac just arrived and we're having trouble making sense of it.\""
   ]
  },
  {
   "cell_type": "markdown",
   "metadata": {},
   "source": [
    "\n",
    "The almanac (your puzzle input) lists all of the seeds that need to be planted. It also lists what type of soil to use with each kind of seed, what type of fertilizer to use with each kind of soil, what type of water to use with each kind of fertilizer, and so on. Every type of seed, soil, fertilizer and so on is identified with a number, but numbers are reused by each category - that is, soil 123 and fertilizer 123 aren't necessarily related to each other.\n",
    "```\n",
    "For example:\n",
    "\n",
    "seeds: 79 14 55 13\n",
    "\n",
    "seed-to-soil map:\n",
    "50 98 2\n",
    "52 50 48\n",
    "\n",
    "soil-to-fertilizer map:\n",
    "0 15 37\n",
    "37 52 2\n",
    "39 0 15\n",
    "\n",
    "fertilizer-to-water map:\n",
    "49 53 8\n",
    "0 11 42\n",
    "42 0 7\n",
    "57 7 4\n",
    "\n",
    "water-to-light map:\n",
    "88 18 7\n",
    "18 25 70\n",
    "\n",
    "light-to-temperature map:\n",
    "45 77 23\n",
    "81 45 19\n",
    "68 64 13\n",
    "\n",
    "temperature-to-humidity map:\n",
    "0 69 1\n",
    "1 0 69\n",
    "\n",
    "humidity-to-location map:\n",
    "60 56 37\n",
    "56 93 4\n",
    "```"
   ]
  },
  {
   "cell_type": "markdown",
   "metadata": {},
   "source": [
    "\n",
    "The almanac starts by listing which seeds need to be planted: seeds 79, 14, 55, and 13.\n",
    "\n",
    "The rest of the almanac contains a list of maps which describe how to convert numbers from a source category into numbers in a destination category. That is, the section that starts with seed-to-soil map: describes how to convert a seed number (the source) to a soil number (the destination). This lets the gardener and his team know which soil to use with which seeds, which water to use with which fertilizer, and so on.\n",
    "\n",
    "Rather than list every source number and its corresponding destination number one by one, the maps describe entire ranges of numbers that can be converted. Each line within a map contains three numbers: the destination range start, the source range start, and the range length."
   ]
  },
  {
   "cell_type": "markdown",
   "metadata": {},
   "source": [
    "\n",
    "Consider again the example seed-to-soil map:\n",
    "```\n",
    "50 98 2\n",
    "52 50 48\n",
    "```\n",
    "The first line has a destination range start of 50, a source range start of 98, and a range length of 2. This line means that the source range starts at 98 and contains two values: 98 and 99. The destination range is the same length, but it starts at 50, so its two values are 50 and 51. With this information, you know that seed number 98 corresponds to soil number 50 and that seed number 99 corresponds to soil number 51.\n",
    "\n",
    "The second line means that the source range starts at 50 and contains 48 values: 50, 51, ..., 96, 97. This corresponds to a destination range starting at 52 and also containing 48 values: 52, 53, ..., 98, 99. So, seed number 53 corresponds to soil number 55.\n",
    "\n",
    "Any source numbers that aren't mapped correspond to the same destination number. So, seed number 10 corresponds to soil number 10.\n"
   ]
  },
  {
   "cell_type": "markdown",
   "metadata": {},
   "source": [
    "\n",
    "So, the entire list of seed numbers and their corresponding soil numbers looks like this:\n",
    "```\n",
    "seed  soil\n",
    "0     0\n",
    "1     1\n",
    "...   ...\n",
    "48    48\n",
    "49    49\n",
    "50    52\n",
    "51    53\n",
    "...   ...\n",
    "96    98\n",
    "97    99\n",
    "98    50\n",
    "99    51\n",
    "```"
   ]
  },
  {
   "cell_type": "markdown",
   "metadata": {},
   "source": [
    "With this map, you can look up the soil number required for each initial seed number:\n",
    "\n",
    "- Seed number 79 corresponds to soil number 81.\n",
    "- Seed number 14 corresponds to soil number 14.\n",
    "- Seed number 55 corresponds to soil number 57.\n",
    "- Seed number 13 corresponds to soil number 13.\n",
    "\n"
   ]
  },
  {
   "cell_type": "markdown",
   "metadata": {},
   "source": [
    "The gardener and his team want to get started as soon as possible, so they'd like to know the closest location that needs a seed. Using these maps, find the lowest location number that corresponds to any of the initial seeds. To do this, you'll need to convert each seed number through other categories until you can find its corresponding location number. In this example, the corresponding types are:\n",
    "\n",
    "* Seed 79, soil 81, fertilizer 81, water 81, light 74, temperature 78, humidity 78, location 82.\n",
    "* Seed 14, soil 14, fertilizer 53, water 49, light 42, temperature 42, humidity 43, location 43.\n",
    "* Seed 55, soil 57, fertilizer 57, water 53, light 46, temperature 82, humidity 82, location 86.\n",
    "* Seed 13, soil 13, fertilizer 52, water 41, light 34, temperature 34, humidity 35, location 35.\n",
    "\n",
    "So, the lowest location number in this example is 35.\n",
    "\n"
   ]
  },
  {
   "cell_type": "markdown",
   "metadata": {},
   "source": [
    "What is the lowest location number that corresponds to any of the initial seed numbers?"
   ]
  },
  {
   "cell_type": "code",
   "execution_count": 114,
   "metadata": {},
   "outputs": [],
   "source": [
    "import re"
   ]
  },
  {
   "cell_type": "code",
   "execution_count": 115,
   "metadata": {},
   "outputs": [],
   "source": [
    "sampleData = '''seeds: 79 14 55 13\n",
    "\n",
    "seed-to-soil map:\n",
    "50 98 2\n",
    "52 50 48\n",
    "\n",
    "soil-to-fertilizer map:\n",
    "0 15 37\n",
    "37 52 2\n",
    "39 0 15\n",
    "\n",
    "fertilizer-to-water map:\n",
    "49 53 8\n",
    "0 11 42\n",
    "42 0 7\n",
    "57 7 4\n",
    "\n",
    "water-to-light map:\n",
    "88 18 7\n",
    "18 25 70\n",
    "\n",
    "light-to-temperature map:\n",
    "45 77 23\n",
    "81 45 19\n",
    "68 64 13\n",
    "\n",
    "temperature-to-humidity map:\n",
    "0 69 1\n",
    "1 0 69\n",
    "\n",
    "humidity-to-location map:\n",
    "60 56 37\n",
    "56 93 4'''"
   ]
  },
  {
   "cell_type": "code",
   "execution_count": 116,
   "metadata": {},
   "outputs": [],
   "source": [
    "# proccessedData = sampleData.split(\"\\n\\n\")\n",
    "# for entry in proccessedData:\n",
    "#     print(entry)"
   ]
  },
  {
   "cell_type": "code",
   "execution_count": 117,
   "metadata": {},
   "outputs": [],
   "source": [
    "# proccessedData[-1].split(':')"
   ]
  },
  {
   "cell_type": "code",
   "execution_count": 118,
   "metadata": {},
   "outputs": [],
   "source": [
    "# dataDictionary = {}\n",
    "# for entry in proccessedData:\n",
    "#     key, value = entry.split(':')\n",
    "#     dataDictionary[key] = [value]\n",
    "\n",
    "# print(dataDictionary)"
   ]
  },
  {
   "cell_type": "code",
   "execution_count": 119,
   "metadata": {},
   "outputs": [],
   "source": [
    "# dataDictionary['seeds']"
   ]
  },
  {
   "cell_type": "code",
   "execution_count": 120,
   "metadata": {},
   "outputs": [],
   "source": [
    "# dataDictionary['seed-to-soil map'][0].split('\\n')"
   ]
  },
  {
   "cell_type": "code",
   "execution_count": 121,
   "metadata": {},
   "outputs": [
    {
     "data": {
      "text/plain": [
       "[('seeds', ' 79 14 55 13', ' 13'),\n",
       " ('seed-to-soil map', '\\n50 98 2\\n52 50 48', ' 48'),\n",
       " ('soil-to-fertilizer map', '\\n0 15 37\\n37 52 2\\n39 0 15', ' 15'),\n",
       " ('fertilizer-to-water map', '\\n49 53 8\\n0 11 42\\n42 0 7\\n57 7 4', ' 4'),\n",
       " ('water-to-light map', '\\n88 18 7\\n18 25 70', ' 70'),\n",
       " ('light-to-temperature map', '\\n45 77 23\\n81 45 19\\n68 64 13', ' 13'),\n",
       " ('temperature-to-humidity map', '\\n0 69 1\\n1 0 69', ' 69'),\n",
       " ('humidity-to-location map', '\\n60 56 37\\n56 93 4', ' 4')]"
      ]
     },
     "execution_count": 121,
     "metadata": {},
     "output_type": "execute_result"
    }
   ],
   "source": [
    "processedData = re.findall(r'(.*)(?::)((\\s\\d+)+)',sampleData)\n",
    "processedData"
   ]
  },
  {
   "cell_type": "code",
   "execution_count": 122,
   "metadata": {},
   "outputs": [
    {
     "data": {
      "text/plain": [
       "['50', '98', '2', '52', '50', '48']"
      ]
     },
     "execution_count": 122,
     "metadata": {},
     "output_type": "execute_result"
    }
   ],
   "source": [
    "# processedData[0][0]\n",
    "re.findall(r'\\d+',processedData[1][1])"
   ]
  },
  {
   "cell_type": "code",
   "execution_count": 123,
   "metadata": {},
   "outputs": [
    {
     "data": {
      "text/plain": [
       "[('50', '98', '2'), ('52', '50', '48')]"
      ]
     },
     "execution_count": 123,
     "metadata": {},
     "output_type": "execute_result"
    }
   ],
   "source": [
    "re.findall(r'(\\d+)(?:\\s)(\\d+)(?:\\s)(\\d+)',processedData[1][1])"
   ]
  },
  {
   "cell_type": "code",
   "execution_count": 124,
   "metadata": {},
   "outputs": [
    {
     "name": "stdout",
     "output_type": "stream",
     "text": [
      "seeds\n",
      "['79', '14', '55', '13']\n",
      "seed-to-soil map\n",
      "['50', '98', '2', '52', '50', '48']\n",
      "soil-to-fertilizer map\n",
      "['0', '15', '37', '37', '52', '2', '39', '0', '15']\n",
      "fertilizer-to-water map\n",
      "['49', '53', '8', '0', '11', '42', '42', '0', '7', '57', '7', '4']\n",
      "water-to-light map\n",
      "['88', '18', '7', '18', '25', '70']\n",
      "light-to-temperature map\n",
      "['45', '77', '23', '81', '45', '19', '68', '64', '13']\n",
      "temperature-to-humidity map\n",
      "['0', '69', '1', '1', '0', '69']\n",
      "humidity-to-location map\n",
      "['60', '56', '37', '56', '93', '4']\n"
     ]
    }
   ],
   "source": [
    "# dataDictionary = {}\n",
    "for value1 in processedData:\n",
    "    print(value1[0])\n",
    "    print(re.findall(r'(\\d+)', value1[1]))\n",
    "    # for value2 in value1:\n",
    "    #     print(value2)\n",
    "    # dataDictionary[value1[0]] = value1[1]\n",
    "\n",
    "# print(dataDictionary)"
   ]
  },
  {
   "cell_type": "markdown",
   "metadata": {},
   "source": [
    "Iteraete though the seeds:\n",
    "1. SEED: We look at the `targetNumber` ***`79`*** on the first set.\n",
    "2. SEED TO SOIL: Determine where the number is positioned.\n",
    "    * First number is destination range start `50`\n",
    "    * Second number is source range start `98`\n",
    "    * Third number is range length `2`\n",
    "    * `79` is located in the second set of numbers: `52 50 48`\n",
    "        * Our `targetNumber` is found within `50 +48` with a difference of `52 -50` \n",
    "        * Therefore our `destinationNumber` is `79 -2` ***`81`***\n",
    "3. SOIL TO FERT: Because our number sets are outside our `targetNumber` and has no corresponding `destinationNumber`, the target is the destination ***`81`***\n",
    "4. FERT TO WATER: ***`81`***\n",
    "5. WATER TO LIGHT: mapping `18 25 70` therefore -7 ***`74`***\n",
    "6. LIGHT TO TEMP: mapping `68 64 13` therefore +4 ***`78`***\n",
    "7. TEMP TO HUMID: mapping `N/A` therefore +0 ***`78`***\n",
    "8. HUMID TO LOCALE: mapping `60 56 37` therefore ***`82`***"
   ]
  },
  {
   "cell_type": "markdown",
   "metadata": {},
   "source": [
    "~~We will need to generate all ranges of all the maps.~~<br>\n",
    "We do not need to generate the full matrix.<br>\n",
    "We generate the numbers where the ranges exist, where the number is not found we can return the same number.<br>\n",
    "\n",
    "```\n",
    "destinationNumber / sourceNumber / rangeLength\n",
    "```\n",
    "\n",
    "```python\n",
    "def NumberChecker(targetNumber, numberList):\n",
    "    destinationNumber, sourceNumber, rangeLength = numberList\n",
    "    if targetNumber > sourceNumber and targetNumber <= (sourceNumber + rangeLength - 1)\n",
    "        targetNumber = targetNumber - sourceNumber + destinationNumber\n",
    "        return targetNumber\n",
    "    else:\n",
    "        recursive\n",
    "\n",
    "# When the list has been exhausted\n",
    "targetNumber = nextSourceNumber\n",
    "```"
   ]
  },
  {
   "cell_type": "code",
   "execution_count": 125,
   "metadata": {},
   "outputs": [
    {
     "data": {
      "text/plain": [
       "[79, 14, 55, 13]"
      ]
     },
     "execution_count": 125,
     "metadata": {},
     "output_type": "execute_result"
    }
   ],
   "source": [
    "seeds = [eval(i) for i in re.findall(r'\\d+',processedData[0][1])]\n",
    "seeds"
   ]
  },
  {
   "cell_type": "code",
   "execution_count": 126,
   "metadata": {},
   "outputs": [
    {
     "data": {
      "text/plain": [
       "[[50, 98, 2], [52, 50, 48]]"
      ]
     },
     "execution_count": 126,
     "metadata": {},
     "output_type": "execute_result"
    }
   ],
   "source": [
    "mapSeedSoil = []\n",
    "for numbers in re.findall(r'(\\d+)(?:\\s)(\\d+)(?:\\s)(\\d+)',processedData[1][1]):\n",
    "    numbers = [eval(i) for i in numbers]\n",
    "    mapSeedSoil.append(numbers)\n",
    "mapSeedSoil"
   ]
  },
  {
   "cell_type": "code",
   "execution_count": 127,
   "metadata": {},
   "outputs": [
    {
     "data": {
      "text/plain": [
       "[[0, 15, 37], [37, 52, 2], [39, 0, 15]]"
      ]
     },
     "execution_count": 127,
     "metadata": {},
     "output_type": "execute_result"
    }
   ],
   "source": [
    "mapSoilFert = []\n",
    "for numbers in re.findall(r'(\\d+)(?:\\s)(\\d+)(?:\\s)(\\d+)',processedData[2][1]):\n",
    "    numbers = [eval(i) for i in numbers]\n",
    "    mapSoilFert.append(numbers)\n",
    "mapSoilFert"
   ]
  },
  {
   "cell_type": "code",
   "execution_count": 128,
   "metadata": {},
   "outputs": [
    {
     "data": {
      "text/plain": [
       "[[49, 53, 8], [0, 11, 42], [42, 0, 7], [57, 7, 4]]"
      ]
     },
     "execution_count": 128,
     "metadata": {},
     "output_type": "execute_result"
    }
   ],
   "source": [
    "mapFertWater = []\n",
    "for numbers in re.findall(r'(\\d+)(?:\\s)(\\d+)(?:\\s)(\\d+)',processedData[3][1]):\n",
    "    numbers = [eval(i) for i in numbers]\n",
    "    mapFertWater.append(numbers)\n",
    "mapFertWater\n"
   ]
  },
  {
   "cell_type": "code",
   "execution_count": 129,
   "metadata": {},
   "outputs": [
    {
     "name": "stdout",
     "output_type": "stream",
     "text": [
      "Seed: 79\n",
      "[79, 81]\n",
      "maps to soil: 81\n",
      "[81, 81, 81]\n",
      "maps to fert: 81\n",
      "[81, 81, 81, 81]\n",
      "maps to water: 81\n",
      "\n",
      "Seed: 14\n",
      "[14, 14]\n",
      "maps to soil: 14\n",
      "[14, 14, 53]\n",
      "maps to fert: 53\n",
      "[49, 53, 53, 53]\n",
      "maps to water: 49\n",
      "\n",
      "Seed: 55\n",
      "[55, 57]\n",
      "maps to soil: 57\n",
      "[57, 57, 57]\n",
      "maps to fert: 57\n",
      "[53, 57, 57, 57]\n",
      "maps to water: 53\n",
      "\n",
      "Seed: 13\n",
      "[13, 13]\n",
      "maps to soil: 13\n",
      "[13, 13, 52]\n",
      "maps to fert: 52\n",
      "[41, 52, 52, 52]\n",
      "maps to water: 41\n",
      "\n"
     ]
    }
   ],
   "source": [
    "for targetNumber in seeds:\n",
    "    targetList = []\n",
    "    print(f\"Seed: {targetNumber}\")\n",
    "\n",
    "    for numbers in mapSeedSoil:\n",
    "        destinationNumber, sourceNumber, rangeLength = numbers\n",
    "        tempNum = targetNumber\n",
    "        if targetNumber >= sourceNumber and targetNumber < (sourceNumber + rangeLength):\n",
    "            tempNum = targetNumber - sourceNumber + destinationNumber\n",
    "        targetList.append(tempNum)\n",
    "\n",
    "    targetList.sort()\n",
    "    print(targetList)\n",
    "    if sum(targetList) % len(targetList) == targetList:\n",
    "        targetNumber = int(sum(targetList) / len(targetList))\n",
    "    elif targetNumber == targetList[-1]:\n",
    "        targetNumber = targetList[0]\n",
    "    elif targetNumber == targetList[0]:\n",
    "        targetNumber = targetList[-1]\n",
    "    print(f'maps to soil: {targetNumber}')\n",
    "\n",
    "    \n",
    "\n",
    "    targetList = []\n",
    "    for numbers in mapSoilFert:\n",
    "        destinationNumber, sourceNumber, rangeLength = numbers\n",
    "        tempNum = targetNumber\n",
    "        if targetNumber >= sourceNumber and targetNumber < (sourceNumber + rangeLength):\n",
    "            tempNum = targetNumber - sourceNumber + destinationNumber\n",
    "        targetList.append(tempNum)\n",
    "\n",
    "    targetList.sort()\n",
    "    print(targetList)\n",
    "    if sum(targetList) % len(targetList) == targetList:\n",
    "        targetNumber = int(sum(targetList) / len(targetList))\n",
    "    elif targetNumber == targetList[-1]:\n",
    "        targetNumber = targetList[0]\n",
    "    elif targetNumber == targetList[0]:\n",
    "        targetNumber = targetList[-1]\n",
    "    print(f'maps to fert: {targetNumber}')\n",
    "\n",
    "    \n",
    "\n",
    "    targetList = []   \n",
    "    for numbers in mapFertWater:\n",
    "        destinationNumber, sourceNumber, rangeLength = numbers\n",
    "        tempNum = targetNumber\n",
    "        if targetNumber >= sourceNumber and targetNumber < (sourceNumber + rangeLength):\n",
    "            tempNum = targetNumber - sourceNumber + destinationNumber\n",
    "        targetList.append(tempNum)\n",
    "\n",
    "    targetList.sort()\n",
    "    print(targetList)\n",
    "    if sum(targetList) % len(targetList) == targetList:\n",
    "        targetNumber = int(sum(targetList) / len(targetList))\n",
    "    elif targetNumber == targetList[0]:\n",
    "        targetNumber = targetList[-1]\n",
    "    elif targetNumber == targetList[1]:\n",
    "        targetNumber = targetList[0]\n",
    "    print(f'maps to water: {targetNumber}')\n",
    "    print()\n",
    "    "
   ]
  },
  {
   "cell_type": "code",
   "execution_count": 131,
   "metadata": {},
   "outputs": [],
   "source": [
    "def seedsMapper(seeds):\n",
    "    return [eval(i) for i in re.findall(r'\\d+',seeds)]\n",
    "\n",
    "def ratioMapper(thisToThat):\n",
    "    tempList = []\n",
    "    for numbers in re.findall(r'(\\d+)(?:\\s)(\\d+)(?:\\s)(\\d+)',thisToThat):\n",
    "        numbers = [eval(i) for i in numbers]\n",
    "        tempList.append(numbers)\n",
    "    return tempList\n",
    "\n",
    "def numberMapper(map, targetNumber):\n",
    "    targetList = []\n",
    "    for numbers in map:\n",
    "        destinationNumber, sourceNumber, rangeLength = numbers\n",
    "        tempNum = targetNumber\n",
    "        if targetNumber >= sourceNumber and targetNumber < (sourceNumber + rangeLength):\n",
    "            tempNum = targetNumber - sourceNumber + destinationNumber\n",
    "        targetList.append(tempNum)\n",
    "    return targetList\n",
    "\n",
    "def numberSorter(targetList, targetNumber):\n",
    "    targetList.sort()\n",
    "    if sum(targetList) % len(targetList) == targetList:\n",
    "        targetNumber = int(sum(targetList) / len(targetList))\n",
    "    elif targetNumber == targetList[0]:\n",
    "        targetNumber = targetList[-1]\n",
    "    elif targetNumber == targetList[1]:\n",
    "        targetNumber = targetList[0]\n",
    "    return targetNumber\n",
    "\n",
    "def mappingProcessor(map, targetNumber):\n",
    "    targetList = numberMapper(map, targetNumber)\n",
    "    targetNumber = numberSorter(targetList, targetNumber)\n",
    "    return targetNumber"
   ]
  },
  {
   "cell_type": "code",
   "execution_count": 132,
   "metadata": {},
   "outputs": [
    {
     "data": {
      "text/plain": [
       "[79, 14, 55, 13]"
      ]
     },
     "execution_count": 132,
     "metadata": {},
     "output_type": "execute_result"
    }
   ],
   "source": [
    "seeds = seedsMapper(processedData[0][1])\n",
    "seeds"
   ]
  },
  {
   "cell_type": "code",
   "execution_count": 138,
   "metadata": {},
   "outputs": [
    {
     "name": "stdout",
     "output_type": "stream",
     "text": [
      "[[0, 1894195346, 315486903], [1184603419, 2977305241, 40929361], [1225532780, 597717, 4698739], [1988113706, 1603988885, 78481073], [679195301, 529385087, 505408118], [1781158512, 2285166785, 39457705], [352613463, 2324624490, 326581838], [1820616217, 1738931330, 104130014], [2066594779, 2671974456, 78036460], [1288754536, 1682469958, 56461372], [1371340411, 3442489267, 409818101], [3341036988, 1092718505, 511270380], [315486903, 1857068786, 37126560], [1924746231, 2209682249, 49360033], [1345215908, 2259042282, 26124503], [2917167497, 2651206328, 20768128], [1230231519, 1034793205, 57925300], [2144631239, 3421335965, 21153302], [2689873172, 2750010916, 227294325], [1974106264, 1843061344, 14007442], [2165784541, 5296456, 524088631], [1288156819, 0, 597717], [2937935625, 3018234602, 403101363]]\n",
      "[[3849355959, 3101885274, 170573538], [3006688391, 3025445580, 66663107], [1656285214, 0, 92188755], [2361256790, 4033128077, 180329908], [2073349245, 3676064680, 287907545], [3458323699, 4213457985, 81509311], [2607585697, 2380345050, 99923790], [2541586698, 3332501375, 61727497], [3789313396, 3272458812, 60042563], [1858319884, 917612384, 162600389], [404885474, 510011966, 407600418], [4019929497, 3603127472, 72937208], [812485892, 1190058688, 253881561], [2603314195, 2073349245, 4271502], [1469824760, 92188755, 186460454], [0, 278649209, 231362757], [1249323571, 1443940249, 220501189], [4285190709, 3092108687, 9776587], [1066367453, 1817839802, 182956118], [3257369783, 2724171240, 184379320], [2707509487, 2480268840, 111317034], [2818826521, 2192483180, 187861870], [1748473969, 1080212773, 109845915], [3441749103, 3394228872, 16574596], [3142507350, 2077620747, 114862433], [3539833010, 2908550560, 116895020], [231362757, 1664441438, 153398364], [384761121, 2000795920, 20124353], [3656728030, 2591585874, 132585366], [3073351498, 3963972225, 69155852], [4092866705, 3410803468, 192324004]]\n",
      "[[2289944373, 962149121, 35670423], [3187295333, 3295892606, 34862460], [3798694276, 3187295333, 48036047], [3633796172, 3644673845, 164898104], [3222157793, 3909959418, 311250910], [922447685, 2248438960, 142418952], [648510907, 2390857912, 2187794], [3533408703, 3809571949, 100387469], [650698701, 1840321280, 271748984], [464371310, 553340958, 30176545], [3907291549, 3330755066, 313918779], [2791296727, 461310335, 25110510], [397451197, 486420845, 66920113], [3846730323, 3235331380, 60561226], [2575399801, 2393045706, 96151163], [1064866637, 583517503, 106955439], [1308190772, 822897256, 139251865], [0, 236670371, 224639964], [2671550964, 0, 119745763], [1171822076, 2112070264, 136368696], [224639964, 690472942, 132424314], [494547855, 2489196869, 153963052], [2498862112, 160132682, 76537689], [1447442637, 997819544, 842501736], [357064278, 119745763, 40386919], [2325614796, 2643159921, 173247316]]\n",
      "[[3181220930, 3836164803, 159006567], [1405924027, 2473049234, 39930303], [1275636734, 1411161599, 10830099], [3831476263, 1580605379, 266491658], [1570444205, 1294782382, 116379217], [3133505036, 2271845049, 47715894], [1305612481, 2512979537, 100311546], [1286466833, 1275636734, 19145648], [167024508, 145118817, 64336111], [92584517, 615923894, 40913901], [2227655152, 2098041405, 130620812], [2181794752, 2613291083, 34326669], [433451288, 209454928, 64553504], [4223684323, 2228662217, 43182832], [3527642272, 3532330812, 303833991], [2855274869, 2647617752, 119788915], [4266867155, 2319560943, 28100141], [231360619, 1167459710, 18705935], [2136463524, 3995171370, 45331228], [2978600831, 1421991698, 154904205], [4097967921, 2825698355, 78160170], [0, 489813287, 92584517], [1686823422, 3023927616, 328136942], [2014960364, 2903858525, 116532044], [1512152517, 2767406667, 58291688], [395185371, 1129193793, 38265917], [498004792, 274008432, 215804855], [2975063784, 3020390569, 3537047], [3340227497, 3352064558, 180266254], [3524203227, 4040502598, 3439045], [713809647, 656837795, 472355998], [1445854330, 2395217316, 66298187], [3520493751, 1576895903, 3709476], [4176128091, 2347661084, 47556232], [2216121421, 2461515503, 11533731], [2604330501, 1847097037, 250944368], [2358275964, 4043941643, 246054537], [133498418, 582397804, 33526090], [2131492408, 4289996180, 4971116], [250066554, 0, 145118817]]\n",
      "[[1212130960, 1395832798, 58636484], [542019293, 812004214, 195851408], [1706861165, 2688952641, 3198757], [3097592274, 3018951608, 116723898], [1148165381, 3135675506, 2936711], [938881022, 300892136, 26815610], [2884354982, 3318488806, 103553821], [789335095, 421331130, 149545927], [3270968199, 1036156523, 69989778], [1142047574, 1030038716, 6117807], [1710059922, 1367448764, 28384034], [3961474833, 1257923390, 109525374], [300892136, 570877057, 241127157], [2564647329, 3422042627, 200129932], [3534803741, 2001828127, 16273450], [1738443956, 1454469282, 486329977], [3717055162, 2018101577, 244419671], [4071000207, 2781125469, 223967089], [1030038716, 3005092558, 13859050], [737870701, 358179343, 20992797], [3388483069, 4209077325, 84901810], [3551077191, 3622172559, 62988195], [3614065386, 2769635501, 11489968], [3215304333, 3262824940, 55663866], [2278270544, 2395185346, 286376785], [1151102092, 1940799259, 61028868], [3625555354, 4044566844, 91499808], [2987908803, 1106146301, 109683471], [1134657064, 2681562131, 7390510], [2236365744, 2353280546, 41904800], [1270767444, 3685160754, 311880998], [1043897766, 2262521248, 90759298], [2806870879, 2692151398, 77484103], [3340957977, 3997041752, 47525092], [3214316172, 4293979135, 988161], [2764777261, 1215829772, 42093618], [965696632, 379172140, 42158990], [3473384879, 4147658463, 61418862], [2224773933, 4136066652, 11591811], [1582648442, 3201806221, 61018719], [758863498, 327707746, 30471597], [1643667161, 3138612217, 63194004]]\n",
      "[[3893671309, 2897869925, 193525827], [1232495182, 999263760, 191357681], [2440090529, 1477966061, 163000786], [3554817869, 2745268041, 3258240], [2845194314, 3091395752, 30017739], [4087197136, 1397536284, 33207741], [131252236, 827398049, 11627380], [2183328852, 2476037434, 27127608], [2603091315, 2503165042, 242102999], [2875212053, 1778930312, 348370034], [1427151141, 891672290, 77843721], [1642958327, 3928570372, 200739395], [3610489285, 3219006125, 283182024], [3277129360, 3580618829, 128344865], [2233175686, 1190621441, 206914843], [891672290, 4129309767, 165657529], [0, 205218291, 35419402], [3584280491, 3551111757, 26208794], [4247745260, 1430744025, 47222036], [2210456460, 3502188149, 21171921], [1843697722, 2136406304, 209010485], [1423852863, 3577320551, 3298278], [348097907, 336470527, 490927522], [1057329819, 3708963694, 175165363], [2231628381, 3549564452, 1547305], [3268023402, 2127300346, 9105958], [142879616, 0, 205218291], [3558076109, 3523360070, 26204382], [2052708207, 2345416789, 130620645], [4120404877, 969516011, 29747749], [35419402, 240637693, 95832834], [4150152626, 3121413491, 97592634], [3223582087, 3884129057, 44441315], [1504994862, 1640966847, 137963465], [3405474225, 2748526281, 149343644]]\n",
      "[[3554305993, 3441523152, 94289982], [4052786034, 3015714705, 242181262], [491965155, 895492593, 72049890], [2437667299, 3726944956, 38441480], [0, 387558480, 141314689], [3811971022, 3765386436, 101972362], [3648595975, 3535813134, 51583790], [1318420824, 1500487572, 135197760], [230758172, 30039204, 163596268], [3097413876, 4221249785, 73717511], [3041068351, 3257895967, 56345525], [1454254795, 641271247, 181430537], [394354440, 1139828795, 97610715], [3215016925, 2618366793, 339289068], [827848339, 193635472, 113349295], [150184459, 306984767, 80573713], [1778801395, 2099048921, 519317872], [1176891800, 1379491771, 111489820], [1288381620, 0, 30039204], [3171131387, 3891749067, 43885538], [564015045, 528873169, 112398078], [3913943384, 3935634605, 11560990], [2767014161, 3947195595, 274054190], [941197634, 822701784, 72790809], [1453618584, 1499851361, 636211], [2298119267, 3587396924, 139548032], [3700179765, 3867358798, 24390269], [3742730647, 1778801395, 11181531], [1013988443, 967542483, 20851096], [141314689, 1490981591, 8869770], [3925504374, 3314241492, 127281660], [2476108779, 2088802749, 10246172], [676413123, 988393579, 151435216], [3753912178, 2957655861, 58058844], [2486354951, 1789982926, 280659210], [3724570034, 2070642136, 18160613], [1034839539, 1237439510, 142052261]]\n"
     ]
    }
   ],
   "source": [
    "# Generate map lists\n",
    "# seed-to-soil map\n",
    "mapSeedSoil = ratioMapper(processedData[1][1])\n",
    "print(mapSeedSoil)\n",
    "\n",
    "# soil-to-fertilizer map\n",
    "mapSoilFert = ratioMapper(processedData[2][1])\n",
    "print(mapSoilFert)\n",
    "\n",
    "# fertilizer-to-water map\n",
    "mapFertWater = ratioMapper(processedData[3][1])\n",
    "print(mapFertWater)\n",
    "\n",
    "# water-to-light map\n",
    "mapWaterLight = ratioMapper(processedData[4][1])\n",
    "print(mapWaterLight)\n",
    "\n",
    "# light-to-temperature map\n",
    "mapLightTemp = ratioMapper(processedData[5][1])\n",
    "print(mapLightTemp)\n",
    "\n",
    "# temperature-to-humidity map\n",
    "mapTempHumid = ratioMapper(processedData[6][1])\n",
    "print(mapTempHumid)\n",
    "\n",
    "# humidity-to-location map\n",
    "mapHumidLocale = ratioMapper(processedData[7][1])\n",
    "print(mapHumidLocale)\n"
   ]
  },
  {
   "cell_type": "code",
   "execution_count": 134,
   "metadata": {},
   "outputs": [
    {
     "name": "stdout",
     "output_type": "stream",
     "text": [
      "82\n",
      "43\n",
      "86\n",
      "35\n"
     ]
    }
   ],
   "source": [
    "for targetNumber in seeds:\n",
    "    targetNumber = mappingProcessor(mapSeedSoil, targetNumber)\n",
    "    targetNumber = mappingProcessor(mapSoilFert, targetNumber)\n",
    "    targetNumber = mappingProcessor(mapFertWater, targetNumber)\n",
    "    targetNumber = mappingProcessor(mapWaterLight, targetNumber)\n",
    "    targetNumber = mappingProcessor(mapLightTemp, targetNumber)\n",
    "    targetNumber = mappingProcessor(mapTempHumid, targetNumber)\n",
    "    targetNumber = mappingProcessor(mapHumidLocale, targetNumber)\n",
    "    \n",
    "    print(targetNumber)\n",
    "\n",
    "\n",
    "\n",
    "# numberMapper(mapSeedSoil,51)"
   ]
  },
  {
   "cell_type": "code",
   "execution_count": 135,
   "metadata": {},
   "outputs": [
    {
     "data": {
      "text/plain": [
       "'seeds: 763445965 78570222 1693788857 146680070 1157620425 535920936 3187993807 180072493 1047354752 20193861 2130924847 274042257 20816377 596708258 950268560 11451287 3503767450 182465951 3760349291 265669041\\n\\nseed-to-soil map:\\n0 1894195346 315486903\\n1184603419 2977305241 40929361\\n1225532780 597717 4698739\\n1988113706 1603988885 78481073\\n679195301 529385087 505408118\\n1781158512 2285166785 39457705\\n352613463 2324624490 326581838\\n1820616217 1738931330 104130014\\n2066594779 2671974456 78036460\\n1288754536 1682469958 56461372\\n1371340411 3442489267 409818101\\n3341036988 1092718505 511270380\\n315486903 1857068786 37126560\\n1924746231 2209682249 49360033\\n1345215908 2259042282 26124503\\n2917167497 2651206328 20768128\\n1230231519 1034793205 57925300\\n2144631239 3421335965 21153302\\n2689873172 2750010916 227294325\\n1974106264 1843061344 14007442\\n2165784541 5296456 524088631\\n1288156819 0 597717\\n2937935625 3018234602 403101363\\n\\nsoil-to-fertilizer map:\\n3849355959 3101885274 170573538\\n3006688391 3025445580 66663107\\n1656285214 0 92188755\\n2361256790 4033128077 180329908\\n2073349245 3676064680 287907545\\n3458323699 4213457985 81509311\\n2607585697 2380345050 99923790\\n2541586698 3332501375 61727497\\n3789313396 3272458812 60042563\\n1858319884 917612384 162600389\\n404885474 510011966 407600418\\n4019929497 3603127472 72937208\\n812485892 1190058688 253881561\\n2603314195 2073349245 4271502\\n1469824760 92188755 186460454\\n0 278649209 231362757\\n1249323571 1443940249 220501189\\n4285190709 3092108687 9776587\\n1066367453 1817839802 182956118\\n3257369783 2724171240 184379320\\n2707509487 2480268840 111317034\\n2818826521 2192483180 187861870\\n1748473969 1080212773 109845915\\n3441749103 3394228872 16574596\\n3142507350 2077620747 114862433\\n3539833010 2908550560 116895020\\n231362757 1664441438 153398364\\n384761121 2000795920 20124353\\n3656728030 2591585874 132585366\\n3073351498 3963972225 69155852\\n4092866705 3410803468 192324004\\n\\nfertilizer-to-water map:\\n2289944373 962149121 35670423\\n3187295333 3295892606 34862460\\n3798694276 3187295333 48036047\\n3633796172 3644673845 164898104\\n3222157793 3909959418 311250910\\n922447685 2248438960 142418952\\n648510907 2390857912 2187794\\n3533408703 3809571949 100387469\\n650698701 1840321280 271748984\\n464371310 553340958 30176545\\n3907291549 3330755066 313918779\\n2791296727 461310335 25110510\\n397451197 486420845 66920113\\n3846730323 3235331380 60561226\\n2575399801 2393045706 96151163\\n1064866637 583517503 106955439\\n1308190772 822897256 139251865\\n0 236670371 224639964\\n2671550964 0 119745763\\n1171822076 2112070264 136368696\\n224639964 690472942 132424314\\n494547855 2489196869 153963052\\n2498862112 160132682 76537689\\n1447442637 997819544 842501736\\n357064278 119745763 40386919\\n2325614796 2643159921 173247316\\n\\nwater-to-light map:\\n3181220930 3836164803 159006567\\n1405924027 2473049234 39930303\\n1275636734 1411161599 10830099\\n3831476263 1580605379 266491658\\n1570444205 1294782382 116379217\\n3133505036 2271845049 47715894\\n1305612481 2512979537 100311546\\n1286466833 1275636734 19145648\\n167024508 145118817 64336111\\n92584517 615923894 40913901\\n2227655152 2098041405 130620812\\n2181794752 2613291083 34326669\\n433451288 209454928 64553504\\n4223684323 2228662217 43182832\\n3527642272 3532330812 303833991\\n2855274869 2647617752 119788915\\n4266867155 2319560943 28100141\\n231360619 1167459710 18705935\\n2136463524 3995171370 45331228\\n2978600831 1421991698 154904205\\n4097967921 2825698355 78160170\\n0 489813287 92584517\\n1686823422 3023927616 328136942\\n2014960364 2903858525 116532044\\n1512152517 2767406667 58291688\\n395185371 1129193793 38265917\\n498004792 274008432 215804855\\n2975063784 3020390569 3537047\\n3340227497 3352064558 180266254\\n3524203227 4040502598 3439045\\n713809647 656837795 472355998\\n1445854330 2395217316 66298187\\n3520493751 1576895903 3709476\\n4176128091 2347661084 47556232\\n2216121421 2461515503 11533731\\n2604330501 1847097037 250944368\\n2358275964 4043941643 246054537\\n133498418 582397804 33526090\\n2131492408 4289996180 4971116\\n250066554 0 145118817\\n\\nlight-to-temperature map:\\n1212130960 1395832798 58636484\\n542019293 812004214 195851408\\n1706861165 2688952641 3198757\\n3097592274 3018951608 116723898\\n1148165381 3135675506 2936711\\n938881022 300892136 26815610\\n2884354982 3318488806 103553821\\n789335095 421331130 149545927\\n3270968199 1036156523 69989778\\n1142047574 1030038716 6117807\\n1710059922 1367448764 28384034\\n3961474833 1257923390 109525374\\n300892136 570877057 241127157\\n2564647329 3422042627 200129932\\n3534803741 2001828127 16273450\\n1738443956 1454469282 486329977\\n3717055162 2018101577 244419671\\n4071000207 2781125469 223967089\\n1030038716 3005092558 13859050\\n737870701 358179343 20992797\\n3388483069 4209077325 84901810\\n3551077191 3622172559 62988195\\n3614065386 2769635501 11489968\\n3215304333 3262824940 55663866\\n2278270544 2395185346 286376785\\n1151102092 1940799259 61028868\\n3625555354 4044566844 91499808\\n2987908803 1106146301 109683471\\n1134657064 2681562131 7390510\\n2236365744 2353280546 41904800\\n1270767444 3685160754 311880998\\n1043897766 2262521248 90759298\\n2806870879 2692151398 77484103\\n3340957977 3997041752 47525092\\n3214316172 4293979135 988161\\n2764777261 1215829772 42093618\\n965696632 379172140 42158990\\n3473384879 4147658463 61418862\\n2224773933 4136066652 11591811\\n1582648442 3201806221 61018719\\n758863498 327707746 30471597\\n1643667161 3138612217 63194004\\n\\ntemperature-to-humidity map:\\n3893671309 2897869925 193525827\\n1232495182 999263760 191357681\\n2440090529 1477966061 163000786\\n3554817869 2745268041 3258240\\n2845194314 3091395752 30017739\\n4087197136 1397536284 33207741\\n131252236 827398049 11627380\\n2183328852 2476037434 27127608\\n2603091315 2503165042 242102999\\n2875212053 1778930312 348370034\\n1427151141 891672290 77843721\\n1642958327 3928570372 200739395\\n3610489285 3219006125 283182024\\n3277129360 3580618829 128344865\\n2233175686 1190621441 206914843\\n891672290 4129309767 165657529\\n0 205218291 35419402\\n3584280491 3551111757 26208794\\n4247745260 1430744025 47222036\\n2210456460 3502188149 21171921\\n1843697722 2136406304 209010485\\n1423852863 3577320551 3298278\\n348097907 336470527 490927522\\n1057329819 3708963694 175165363\\n2231628381 3549564452 1547305\\n3268023402 2127300346 9105958\\n142879616 0 205218291\\n3558076109 3523360070 26204382\\n2052708207 2345416789 130620645\\n4120404877 969516011 29747749\\n35419402 240637693 95832834\\n4150152626 3121413491 97592634\\n3223582087 3884129057 44441315\\n1504994862 1640966847 137963465\\n3405474225 2748526281 149343644\\n\\nhumidity-to-location map:\\n3554305993 3441523152 94289982\\n4052786034 3015714705 242181262\\n491965155 895492593 72049890\\n2437667299 3726944956 38441480\\n0 387558480 141314689\\n3811971022 3765386436 101972362\\n3648595975 3535813134 51583790\\n1318420824 1500487572 135197760\\n230758172 30039204 163596268\\n3097413876 4221249785 73717511\\n3041068351 3257895967 56345525\\n1454254795 641271247 181430537\\n394354440 1139828795 97610715\\n3215016925 2618366793 339289068\\n827848339 193635472 113349295\\n150184459 306984767 80573713\\n1778801395 2099048921 519317872\\n1176891800 1379491771 111489820\\n1288381620 0 30039204\\n3171131387 3891749067 43885538\\n564015045 528873169 112398078\\n3913943384 3935634605 11560990\\n2767014161 3947195595 274054190\\n941197634 822701784 72790809\\n1453618584 1499851361 636211\\n2298119267 3587396924 139548032\\n3700179765 3867358798 24390269\\n3742730647 1778801395 11181531\\n1013988443 967542483 20851096\\n141314689 1490981591 8869770\\n3925504374 3314241492 127281660\\n2476108779 2088802749 10246172\\n676413123 988393579 151435216\\n3753912178 2957655861 58058844\\n2486354951 1789982926 280659210\\n3724570034 2070642136 18160613\\n1034839539 1237439510 142052261'"
      ]
     },
     "execution_count": 135,
     "metadata": {},
     "output_type": "execute_result"
    }
   ],
   "source": [
    "with open(\"GarderiningAlmanac.txt\") as f:\n",
    "    data = f.read()\n",
    "data"
   ]
  },
  {
   "cell_type": "code",
   "execution_count": 137,
   "metadata": {},
   "outputs": [
    {
     "data": {
      "text/plain": [
       "[('seeds',\n",
       "  ' 763445965 78570222 1693788857 146680070 1157620425 535920936 3187993807 180072493 1047354752 20193861 2130924847 274042257 20816377 596708258 950268560 11451287 3503767450 182465951 3760349291 265669041',\n",
       "  ' 265669041'),\n",
       " ('seed-to-soil map',\n",
       "  '\\n0 1894195346 315486903\\n1184603419 2977305241 40929361\\n1225532780 597717 4698739\\n1988113706 1603988885 78481073\\n679195301 529385087 505408118\\n1781158512 2285166785 39457705\\n352613463 2324624490 326581838\\n1820616217 1738931330 104130014\\n2066594779 2671974456 78036460\\n1288754536 1682469958 56461372\\n1371340411 3442489267 409818101\\n3341036988 1092718505 511270380\\n315486903 1857068786 37126560\\n1924746231 2209682249 49360033\\n1345215908 2259042282 26124503\\n2917167497 2651206328 20768128\\n1230231519 1034793205 57925300\\n2144631239 3421335965 21153302\\n2689873172 2750010916 227294325\\n1974106264 1843061344 14007442\\n2165784541 5296456 524088631\\n1288156819 0 597717\\n2937935625 3018234602 403101363',\n",
       "  ' 403101363'),\n",
       " ('soil-to-fertilizer map',\n",
       "  '\\n3849355959 3101885274 170573538\\n3006688391 3025445580 66663107\\n1656285214 0 92188755\\n2361256790 4033128077 180329908\\n2073349245 3676064680 287907545\\n3458323699 4213457985 81509311\\n2607585697 2380345050 99923790\\n2541586698 3332501375 61727497\\n3789313396 3272458812 60042563\\n1858319884 917612384 162600389\\n404885474 510011966 407600418\\n4019929497 3603127472 72937208\\n812485892 1190058688 253881561\\n2603314195 2073349245 4271502\\n1469824760 92188755 186460454\\n0 278649209 231362757\\n1249323571 1443940249 220501189\\n4285190709 3092108687 9776587\\n1066367453 1817839802 182956118\\n3257369783 2724171240 184379320\\n2707509487 2480268840 111317034\\n2818826521 2192483180 187861870\\n1748473969 1080212773 109845915\\n3441749103 3394228872 16574596\\n3142507350 2077620747 114862433\\n3539833010 2908550560 116895020\\n231362757 1664441438 153398364\\n384761121 2000795920 20124353\\n3656728030 2591585874 132585366\\n3073351498 3963972225 69155852\\n4092866705 3410803468 192324004',\n",
       "  ' 192324004'),\n",
       " ('fertilizer-to-water map',\n",
       "  '\\n2289944373 962149121 35670423\\n3187295333 3295892606 34862460\\n3798694276 3187295333 48036047\\n3633796172 3644673845 164898104\\n3222157793 3909959418 311250910\\n922447685 2248438960 142418952\\n648510907 2390857912 2187794\\n3533408703 3809571949 100387469\\n650698701 1840321280 271748984\\n464371310 553340958 30176545\\n3907291549 3330755066 313918779\\n2791296727 461310335 25110510\\n397451197 486420845 66920113\\n3846730323 3235331380 60561226\\n2575399801 2393045706 96151163\\n1064866637 583517503 106955439\\n1308190772 822897256 139251865\\n0 236670371 224639964\\n2671550964 0 119745763\\n1171822076 2112070264 136368696\\n224639964 690472942 132424314\\n494547855 2489196869 153963052\\n2498862112 160132682 76537689\\n1447442637 997819544 842501736\\n357064278 119745763 40386919\\n2325614796 2643159921 173247316',\n",
       "  ' 173247316'),\n",
       " ('water-to-light map',\n",
       "  '\\n3181220930 3836164803 159006567\\n1405924027 2473049234 39930303\\n1275636734 1411161599 10830099\\n3831476263 1580605379 266491658\\n1570444205 1294782382 116379217\\n3133505036 2271845049 47715894\\n1305612481 2512979537 100311546\\n1286466833 1275636734 19145648\\n167024508 145118817 64336111\\n92584517 615923894 40913901\\n2227655152 2098041405 130620812\\n2181794752 2613291083 34326669\\n433451288 209454928 64553504\\n4223684323 2228662217 43182832\\n3527642272 3532330812 303833991\\n2855274869 2647617752 119788915\\n4266867155 2319560943 28100141\\n231360619 1167459710 18705935\\n2136463524 3995171370 45331228\\n2978600831 1421991698 154904205\\n4097967921 2825698355 78160170\\n0 489813287 92584517\\n1686823422 3023927616 328136942\\n2014960364 2903858525 116532044\\n1512152517 2767406667 58291688\\n395185371 1129193793 38265917\\n498004792 274008432 215804855\\n2975063784 3020390569 3537047\\n3340227497 3352064558 180266254\\n3524203227 4040502598 3439045\\n713809647 656837795 472355998\\n1445854330 2395217316 66298187\\n3520493751 1576895903 3709476\\n4176128091 2347661084 47556232\\n2216121421 2461515503 11533731\\n2604330501 1847097037 250944368\\n2358275964 4043941643 246054537\\n133498418 582397804 33526090\\n2131492408 4289996180 4971116\\n250066554 0 145118817',\n",
       "  ' 145118817'),\n",
       " ('light-to-temperature map',\n",
       "  '\\n1212130960 1395832798 58636484\\n542019293 812004214 195851408\\n1706861165 2688952641 3198757\\n3097592274 3018951608 116723898\\n1148165381 3135675506 2936711\\n938881022 300892136 26815610\\n2884354982 3318488806 103553821\\n789335095 421331130 149545927\\n3270968199 1036156523 69989778\\n1142047574 1030038716 6117807\\n1710059922 1367448764 28384034\\n3961474833 1257923390 109525374\\n300892136 570877057 241127157\\n2564647329 3422042627 200129932\\n3534803741 2001828127 16273450\\n1738443956 1454469282 486329977\\n3717055162 2018101577 244419671\\n4071000207 2781125469 223967089\\n1030038716 3005092558 13859050\\n737870701 358179343 20992797\\n3388483069 4209077325 84901810\\n3551077191 3622172559 62988195\\n3614065386 2769635501 11489968\\n3215304333 3262824940 55663866\\n2278270544 2395185346 286376785\\n1151102092 1940799259 61028868\\n3625555354 4044566844 91499808\\n2987908803 1106146301 109683471\\n1134657064 2681562131 7390510\\n2236365744 2353280546 41904800\\n1270767444 3685160754 311880998\\n1043897766 2262521248 90759298\\n2806870879 2692151398 77484103\\n3340957977 3997041752 47525092\\n3214316172 4293979135 988161\\n2764777261 1215829772 42093618\\n965696632 379172140 42158990\\n3473384879 4147658463 61418862\\n2224773933 4136066652 11591811\\n1582648442 3201806221 61018719\\n758863498 327707746 30471597\\n1643667161 3138612217 63194004',\n",
       "  ' 63194004'),\n",
       " ('temperature-to-humidity map',\n",
       "  '\\n3893671309 2897869925 193525827\\n1232495182 999263760 191357681\\n2440090529 1477966061 163000786\\n3554817869 2745268041 3258240\\n2845194314 3091395752 30017739\\n4087197136 1397536284 33207741\\n131252236 827398049 11627380\\n2183328852 2476037434 27127608\\n2603091315 2503165042 242102999\\n2875212053 1778930312 348370034\\n1427151141 891672290 77843721\\n1642958327 3928570372 200739395\\n3610489285 3219006125 283182024\\n3277129360 3580618829 128344865\\n2233175686 1190621441 206914843\\n891672290 4129309767 165657529\\n0 205218291 35419402\\n3584280491 3551111757 26208794\\n4247745260 1430744025 47222036\\n2210456460 3502188149 21171921\\n1843697722 2136406304 209010485\\n1423852863 3577320551 3298278\\n348097907 336470527 490927522\\n1057329819 3708963694 175165363\\n2231628381 3549564452 1547305\\n3268023402 2127300346 9105958\\n142879616 0 205218291\\n3558076109 3523360070 26204382\\n2052708207 2345416789 130620645\\n4120404877 969516011 29747749\\n35419402 240637693 95832834\\n4150152626 3121413491 97592634\\n3223582087 3884129057 44441315\\n1504994862 1640966847 137963465\\n3405474225 2748526281 149343644',\n",
       "  ' 149343644'),\n",
       " ('humidity-to-location map',\n",
       "  '\\n3554305993 3441523152 94289982\\n4052786034 3015714705 242181262\\n491965155 895492593 72049890\\n2437667299 3726944956 38441480\\n0 387558480 141314689\\n3811971022 3765386436 101972362\\n3648595975 3535813134 51583790\\n1318420824 1500487572 135197760\\n230758172 30039204 163596268\\n3097413876 4221249785 73717511\\n3041068351 3257895967 56345525\\n1454254795 641271247 181430537\\n394354440 1139828795 97610715\\n3215016925 2618366793 339289068\\n827848339 193635472 113349295\\n150184459 306984767 80573713\\n1778801395 2099048921 519317872\\n1176891800 1379491771 111489820\\n1288381620 0 30039204\\n3171131387 3891749067 43885538\\n564015045 528873169 112398078\\n3913943384 3935634605 11560990\\n2767014161 3947195595 274054190\\n941197634 822701784 72790809\\n1453618584 1499851361 636211\\n2298119267 3587396924 139548032\\n3700179765 3867358798 24390269\\n3742730647 1778801395 11181531\\n1013988443 967542483 20851096\\n141314689 1490981591 8869770\\n3925504374 3314241492 127281660\\n2476108779 2088802749 10246172\\n676413123 988393579 151435216\\n3753912178 2957655861 58058844\\n2486354951 1789982926 280659210\\n3724570034 2070642136 18160613\\n1034839539 1237439510 142052261',\n",
       "  ' 142052261')]"
      ]
     },
     "execution_count": 137,
     "metadata": {},
     "output_type": "execute_result"
    }
   ],
   "source": [
    "processedData = re.findall(r'(.*)(?::)((\\s\\d+)+)',data)\n",
    "processedData"
   ]
  },
  {
   "cell_type": "code",
   "execution_count": 139,
   "metadata": {},
   "outputs": [
    {
     "data": {
      "text/plain": [
       "[763445965,\n",
       " 78570222,\n",
       " 1693788857,\n",
       " 146680070,\n",
       " 1157620425,\n",
       " 535920936,\n",
       " 3187993807,\n",
       " 180072493,\n",
       " 1047354752,\n",
       " 20193861,\n",
       " 2130924847,\n",
       " 274042257,\n",
       " 20816377,\n",
       " 596708258,\n",
       " 950268560,\n",
       " 11451287,\n",
       " 3503767450,\n",
       " 182465951,\n",
       " 3760349291,\n",
       " 265669041]"
      ]
     },
     "execution_count": 139,
     "metadata": {},
     "output_type": "execute_result"
    }
   ],
   "source": [
    "seeds = seedsMapper(processedData[0][1])\n",
    "seeds"
   ]
  },
  {
   "cell_type": "code",
   "execution_count": 140,
   "metadata": {},
   "outputs": [
    {
     "name": "stdout",
     "output_type": "stream",
     "text": [
      "[[0, 1894195346, 315486903], [1184603419, 2977305241, 40929361], [1225532780, 597717, 4698739], [1988113706, 1603988885, 78481073], [679195301, 529385087, 505408118], [1781158512, 2285166785, 39457705], [352613463, 2324624490, 326581838], [1820616217, 1738931330, 104130014], [2066594779, 2671974456, 78036460], [1288754536, 1682469958, 56461372], [1371340411, 3442489267, 409818101], [3341036988, 1092718505, 511270380], [315486903, 1857068786, 37126560], [1924746231, 2209682249, 49360033], [1345215908, 2259042282, 26124503], [2917167497, 2651206328, 20768128], [1230231519, 1034793205, 57925300], [2144631239, 3421335965, 21153302], [2689873172, 2750010916, 227294325], [1974106264, 1843061344, 14007442], [2165784541, 5296456, 524088631], [1288156819, 0, 597717], [2937935625, 3018234602, 403101363]]\n",
      "[[3849355959, 3101885274, 170573538], [3006688391, 3025445580, 66663107], [1656285214, 0, 92188755], [2361256790, 4033128077, 180329908], [2073349245, 3676064680, 287907545], [3458323699, 4213457985, 81509311], [2607585697, 2380345050, 99923790], [2541586698, 3332501375, 61727497], [3789313396, 3272458812, 60042563], [1858319884, 917612384, 162600389], [404885474, 510011966, 407600418], [4019929497, 3603127472, 72937208], [812485892, 1190058688, 253881561], [2603314195, 2073349245, 4271502], [1469824760, 92188755, 186460454], [0, 278649209, 231362757], [1249323571, 1443940249, 220501189], [4285190709, 3092108687, 9776587], [1066367453, 1817839802, 182956118], [3257369783, 2724171240, 184379320], [2707509487, 2480268840, 111317034], [2818826521, 2192483180, 187861870], [1748473969, 1080212773, 109845915], [3441749103, 3394228872, 16574596], [3142507350, 2077620747, 114862433], [3539833010, 2908550560, 116895020], [231362757, 1664441438, 153398364], [384761121, 2000795920, 20124353], [3656728030, 2591585874, 132585366], [3073351498, 3963972225, 69155852], [4092866705, 3410803468, 192324004]]\n",
      "[[2289944373, 962149121, 35670423], [3187295333, 3295892606, 34862460], [3798694276, 3187295333, 48036047], [3633796172, 3644673845, 164898104], [3222157793, 3909959418, 311250910], [922447685, 2248438960, 142418952], [648510907, 2390857912, 2187794], [3533408703, 3809571949, 100387469], [650698701, 1840321280, 271748984], [464371310, 553340958, 30176545], [3907291549, 3330755066, 313918779], [2791296727, 461310335, 25110510], [397451197, 486420845, 66920113], [3846730323, 3235331380, 60561226], [2575399801, 2393045706, 96151163], [1064866637, 583517503, 106955439], [1308190772, 822897256, 139251865], [0, 236670371, 224639964], [2671550964, 0, 119745763], [1171822076, 2112070264, 136368696], [224639964, 690472942, 132424314], [494547855, 2489196869, 153963052], [2498862112, 160132682, 76537689], [1447442637, 997819544, 842501736], [357064278, 119745763, 40386919], [2325614796, 2643159921, 173247316]]\n",
      "[[3181220930, 3836164803, 159006567], [1405924027, 2473049234, 39930303], [1275636734, 1411161599, 10830099], [3831476263, 1580605379, 266491658], [1570444205, 1294782382, 116379217], [3133505036, 2271845049, 47715894], [1305612481, 2512979537, 100311546], [1286466833, 1275636734, 19145648], [167024508, 145118817, 64336111], [92584517, 615923894, 40913901], [2227655152, 2098041405, 130620812], [2181794752, 2613291083, 34326669], [433451288, 209454928, 64553504], [4223684323, 2228662217, 43182832], [3527642272, 3532330812, 303833991], [2855274869, 2647617752, 119788915], [4266867155, 2319560943, 28100141], [231360619, 1167459710, 18705935], [2136463524, 3995171370, 45331228], [2978600831, 1421991698, 154904205], [4097967921, 2825698355, 78160170], [0, 489813287, 92584517], [1686823422, 3023927616, 328136942], [2014960364, 2903858525, 116532044], [1512152517, 2767406667, 58291688], [395185371, 1129193793, 38265917], [498004792, 274008432, 215804855], [2975063784, 3020390569, 3537047], [3340227497, 3352064558, 180266254], [3524203227, 4040502598, 3439045], [713809647, 656837795, 472355998], [1445854330, 2395217316, 66298187], [3520493751, 1576895903, 3709476], [4176128091, 2347661084, 47556232], [2216121421, 2461515503, 11533731], [2604330501, 1847097037, 250944368], [2358275964, 4043941643, 246054537], [133498418, 582397804, 33526090], [2131492408, 4289996180, 4971116], [250066554, 0, 145118817]]\n",
      "[[1212130960, 1395832798, 58636484], [542019293, 812004214, 195851408], [1706861165, 2688952641, 3198757], [3097592274, 3018951608, 116723898], [1148165381, 3135675506, 2936711], [938881022, 300892136, 26815610], [2884354982, 3318488806, 103553821], [789335095, 421331130, 149545927], [3270968199, 1036156523, 69989778], [1142047574, 1030038716, 6117807], [1710059922, 1367448764, 28384034], [3961474833, 1257923390, 109525374], [300892136, 570877057, 241127157], [2564647329, 3422042627, 200129932], [3534803741, 2001828127, 16273450], [1738443956, 1454469282, 486329977], [3717055162, 2018101577, 244419671], [4071000207, 2781125469, 223967089], [1030038716, 3005092558, 13859050], [737870701, 358179343, 20992797], [3388483069, 4209077325, 84901810], [3551077191, 3622172559, 62988195], [3614065386, 2769635501, 11489968], [3215304333, 3262824940, 55663866], [2278270544, 2395185346, 286376785], [1151102092, 1940799259, 61028868], [3625555354, 4044566844, 91499808], [2987908803, 1106146301, 109683471], [1134657064, 2681562131, 7390510], [2236365744, 2353280546, 41904800], [1270767444, 3685160754, 311880998], [1043897766, 2262521248, 90759298], [2806870879, 2692151398, 77484103], [3340957977, 3997041752, 47525092], [3214316172, 4293979135, 988161], [2764777261, 1215829772, 42093618], [965696632, 379172140, 42158990], [3473384879, 4147658463, 61418862], [2224773933, 4136066652, 11591811], [1582648442, 3201806221, 61018719], [758863498, 327707746, 30471597], [1643667161, 3138612217, 63194004]]\n",
      "[[3893671309, 2897869925, 193525827], [1232495182, 999263760, 191357681], [2440090529, 1477966061, 163000786], [3554817869, 2745268041, 3258240], [2845194314, 3091395752, 30017739], [4087197136, 1397536284, 33207741], [131252236, 827398049, 11627380], [2183328852, 2476037434, 27127608], [2603091315, 2503165042, 242102999], [2875212053, 1778930312, 348370034], [1427151141, 891672290, 77843721], [1642958327, 3928570372, 200739395], [3610489285, 3219006125, 283182024], [3277129360, 3580618829, 128344865], [2233175686, 1190621441, 206914843], [891672290, 4129309767, 165657529], [0, 205218291, 35419402], [3584280491, 3551111757, 26208794], [4247745260, 1430744025, 47222036], [2210456460, 3502188149, 21171921], [1843697722, 2136406304, 209010485], [1423852863, 3577320551, 3298278], [348097907, 336470527, 490927522], [1057329819, 3708963694, 175165363], [2231628381, 3549564452, 1547305], [3268023402, 2127300346, 9105958], [142879616, 0, 205218291], [3558076109, 3523360070, 26204382], [2052708207, 2345416789, 130620645], [4120404877, 969516011, 29747749], [35419402, 240637693, 95832834], [4150152626, 3121413491, 97592634], [3223582087, 3884129057, 44441315], [1504994862, 1640966847, 137963465], [3405474225, 2748526281, 149343644]]\n",
      "[[3554305993, 3441523152, 94289982], [4052786034, 3015714705, 242181262], [491965155, 895492593, 72049890], [2437667299, 3726944956, 38441480], [0, 387558480, 141314689], [3811971022, 3765386436, 101972362], [3648595975, 3535813134, 51583790], [1318420824, 1500487572, 135197760], [230758172, 30039204, 163596268], [3097413876, 4221249785, 73717511], [3041068351, 3257895967, 56345525], [1454254795, 641271247, 181430537], [394354440, 1139828795, 97610715], [3215016925, 2618366793, 339289068], [827848339, 193635472, 113349295], [150184459, 306984767, 80573713], [1778801395, 2099048921, 519317872], [1176891800, 1379491771, 111489820], [1288381620, 0, 30039204], [3171131387, 3891749067, 43885538], [564015045, 528873169, 112398078], [3913943384, 3935634605, 11560990], [2767014161, 3947195595, 274054190], [941197634, 822701784, 72790809], [1453618584, 1499851361, 636211], [2298119267, 3587396924, 139548032], [3700179765, 3867358798, 24390269], [3742730647, 1778801395, 11181531], [1013988443, 967542483, 20851096], [141314689, 1490981591, 8869770], [3925504374, 3314241492, 127281660], [2476108779, 2088802749, 10246172], [676413123, 988393579, 151435216], [3753912178, 2957655861, 58058844], [2486354951, 1789982926, 280659210], [3724570034, 2070642136, 18160613], [1034839539, 1237439510, 142052261]]\n"
     ]
    }
   ],
   "source": [
    "# Generate map lists\n",
    "# seed-to-soil map\n",
    "mapSeedSoil = ratioMapper(processedData[1][1])\n",
    "print(mapSeedSoil)\n",
    "\n",
    "# soil-to-fertilizer map\n",
    "mapSoilFert = ratioMapper(processedData[2][1])\n",
    "print(mapSoilFert)\n",
    "\n",
    "# fertilizer-to-water map\n",
    "mapFertWater = ratioMapper(processedData[3][1])\n",
    "print(mapFertWater)\n",
    "\n",
    "# water-to-light map\n",
    "mapWaterLight = ratioMapper(processedData[4][1])\n",
    "print(mapWaterLight)\n",
    "\n",
    "# light-to-temperature map\n",
    "mapLightTemp = ratioMapper(processedData[5][1])\n",
    "print(mapLightTemp)\n",
    "\n",
    "# temperature-to-humidity map\n",
    "mapTempHumid = ratioMapper(processedData[6][1])\n",
    "print(mapTempHumid)\n",
    "\n",
    "# humidity-to-location map\n",
    "mapHumidLocale = ratioMapper(processedData[7][1])\n",
    "print(mapHumidLocale)\n"
   ]
  },
  {
   "cell_type": "code",
   "execution_count": 143,
   "metadata": {},
   "outputs": [
    {
     "name": "stdout",
     "output_type": "stream",
     "text": [
      "[265018614, 345420307, 473133131, 779952589, 813345012, 815738470, 1159584779, 1267175914, 1380297256, 2224742782, 2225365298, 2521856781, 2630041938, 2877095418, 2988476391, 3413494836, 3802688341, 3900632350, 3909005566, 4100783722]\n"
     ]
    }
   ],
   "source": [
    "targetList = []\n",
    "for targetNumber in seeds:\n",
    "    targetNumber = mappingProcessor(mapSeedSoil, targetNumber)\n",
    "    targetNumber = mappingProcessor(mapSoilFert, targetNumber)\n",
    "    targetNumber = mappingProcessor(mapFertWater, targetNumber)\n",
    "    targetNumber = mappingProcessor(mapWaterLight, targetNumber)\n",
    "    targetNumber = mappingProcessor(mapLightTemp, targetNumber)\n",
    "    targetNumber = mappingProcessor(mapTempHumid, targetNumber)\n",
    "    targetNumber = mappingProcessor(mapHumidLocale, targetNumber)\n",
    "    \n",
    "    targetList.append(targetNumber)\n",
    "\n",
    "targetList.sort()\n",
    "print(targetList)\n"
   ]
  }
 ],
 "metadata": {
  "kernelspec": {
   "display_name": "Python 3",
   "language": "python",
   "name": "python3"
  },
  "language_info": {
   "codemirror_mode": {
    "name": "ipython",
    "version": 3
   },
   "file_extension": ".py",
   "mimetype": "text/x-python",
   "name": "python",
   "nbconvert_exporter": "python",
   "pygments_lexer": "ipython3",
   "version": "3.12.0"
  }
 },
 "nbformat": 4,
 "nbformat_minor": 2
}
