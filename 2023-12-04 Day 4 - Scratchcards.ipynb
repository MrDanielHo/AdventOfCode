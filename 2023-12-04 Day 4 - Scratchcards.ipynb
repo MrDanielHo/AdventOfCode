{
 "cells": [
  {
   "cell_type": "markdown",
   "metadata": {},
   "source": [
    "# --- Day 4: Scratchcards ---\n",
    "The gondola takes you up. Strangely, though, the ground doesn't seem to be coming with you; you're not climbing a mountain. As the circle of Snow Island recedes below you, an entire new landmass suddenly appears above you! The gondola carries you to the surface of the new island and lurches into the station.\n",
    "\n",
    "As you exit the gondola, the first thing you notice is that the air here is much warmer than it was on Snow Island. It's also quite humid. Is this where the water source is?\n",
    "\n",
    "The next thing you notice is an Elf sitting on the floor across the station in what seems to be a pile of colorful square cards.\n",
    "\n",
    "\"Oh! Hello!\" The Elf excitedly runs over to you. \"How may I be of service?\" You ask about water sources.\n",
    "\n",
    "\"I'm not sure; I just operate the gondola lift. That does sound like something we'd have, though - this is Island Island, after all! I bet the gardener would know. He's on a different island, though - er, the small kind surrounded by water, not the floating kind. We really need to come up with a better naming scheme. Tell you what: if you can help me with something quick, I'll let you borrow my boat and you can go visit the gardener. I got all these scratchcards as a gift, but I can't figure out what I've won.\"\n",
    "\n",
    "The Elf leads you over to the pile of colorful cards. There, you discover dozens of scratchcards, all with their opaque covering already scratched off. Picking one up, it looks like each card has two lists of numbers separated by a vertical bar (|): a list of winning numbers and then a list of numbers you have. You organize the information into a table (your puzzle input).\n",
    "\n",
    "As far as the Elf has been able to figure out, you have to figure out which of the numbers you have appear in the list of winning numbers. The first match makes the card worth one point and each match after the first doubles the point value of that card.\n",
    "\n",
    "For example:\n",
    "```\n",
    "Card 1: 41 48 83 86 17 | 83 86  6 31 17  9 48 53\n",
    "Card 2: 13 32 20 16 61 | 61 30 68 82 17 32 24 19\n",
    "Card 3:  1 21 53 59 44 | 69 82 63 72 16 21 14  1\n",
    "Card 4: 41 92 73 84 69 | 59 84 76 51 58  5 54 83\n",
    "Card 5: 87 83 26 28 32 | 88 30 70 12 93 22 82 36\n",
    "Card 6: 31 18 13 56 72 | 74 77 10 23 35 67 36 11\n",
    "```\n",
    "In the above example, card 1 has five winning numbers (41, 48, 83, 86, and 17) and eight numbers you have (83, 86, 6, 31, 17, 9, 48, and 53). Of the numbers you have, four of them (48, 83, 17, and 86) are winning numbers! That means card 1 is worth 8 points (1 for the first match, then doubled three times for each of the three matches after the first).\n",
    "\n",
    "Card 2 has two winning numbers (32 and 61), so it is worth 2 points.\n",
    "Card 3 has two winning numbers (1 and 21), so it is worth 2 points.\n",
    "Card 4 has one winning number (84), so it is worth 1 point.\n",
    "Card 5 has no winning numbers, so it is worth no points.\n",
    "Card 6 has no winning numbers, so it is worth no points.\n",
    "So, in this example, the Elf's pile of scratchcards is worth 13 points.\n",
    "\n",
    "Take a seat in the large pile of colorful cards. How many points are they worth in total?"
   ]
  },
  {
   "cell_type": "markdown",
   "metadata": {},
   "source": [
    "## Approach\n",
    "* Separate the lines\n",
    "* .split() by colon (:) and pipe (|)\n",
    "* Once lists are created, compare the two, remove duplicates, then get a count of the duplicates."
   ]
  },
  {
   "cell_type": "code",
   "execution_count": 57,
   "metadata": {},
   "outputs": [],
   "source": [
    "sampleData = '''Card 1: 41 48 83 86 17 | 83 86  6 31 17  9 48 53\n",
    "Card 2: 13 32 20 16 61 | 61 30 68 82 17 32 24 19\n",
    "Card 3:  1 21 53 59 44 | 69 82 63 72 16 21 14  1\n",
    "Card 4: 41 92 73 84 69 | 59 84 76 51 58  5 54 83\n",
    "Card 5: 87 83 26 28 32 | 88 30 70 12 93 22 82 36\n",
    "Card 6: 31 18 13 56 72 | 74 77 10 23 35 67 36 11'''"
   ]
  },
  {
   "cell_type": "code",
   "execution_count": 58,
   "metadata": {},
   "outputs": [
    {
     "name": "stdout",
     "output_type": "stream",
     "text": [
      "In game 1:\n",
      "The winning numbers are {'86', '83', '48', '17', '41'}\n",
      "The numbers we have are {'6', '86', '83', '53', '48', '9', '17', '31'}\n",
      "We won with 4 numbers\n",
      "\n",
      "In game 2:\n",
      "The winning numbers are {'16', '13', '20', '61', '32'}\n",
      "The numbers we have are {'19', '82', '30', '68', '24', '61', '17', '32'}\n",
      "We won with 2 numbers\n",
      "\n",
      "In game 3:\n",
      "The winning numbers are {'59', '44', '53', '1', '21'}\n",
      "The numbers we have are {'72', '16', '82', '63', '14', '69', '1', '21'}\n",
      "We won with 2 numbers\n",
      "\n",
      "In game 4:\n",
      "The winning numbers are {'69', '73', '41', '92', '84'}\n",
      "The numbers we have are {'58', '59', '83', '54', '51', '5', '76', '84'}\n",
      "We won with 1 numbers\n",
      "\n",
      "In game 5:\n",
      "The winning numbers are {'83', '87', '28', '26', '32'}\n",
      "The numbers we have are {'36', '93', '12', '82', '22', '30', '70', '88'}\n",
      "We won with 0 numbers\n",
      "\n",
      "In game 6:\n",
      "The winning numbers are {'18', '72', '56', '13', '31'}\n",
      "The numbers we have are {'36', '10', '23', '74', '77', '11', '67', '35'}\n",
      "We won with 0 numbers\n",
      "\n"
     ]
    }
   ],
   "source": [
    "pointsTotal = []\n",
    "\n",
    "for line in sampleData.splitlines():\n",
    "    \n",
    "    card, line = line.split(':')\n",
    "    game = card.split(' ')[1]\n",
    "    numbers1, numbers2 = line.split(\"|\")\n",
    "    winningHand = set(filter(None,numbers1.split(\" \")))\n",
    "    numbersHeld = set(filter(None,numbers2.split(\" \")))\n",
    "    numbersThatWon = set(winningHand)\n",
    "    numbersThatWon = [x for x in numbersHeld if x in numbersThatWon]\n",
    "    \n",
    "    pointsTotal.append(len(numbersThatWon))\n",
    "    print(f'In game {game}:')\n",
    "    print(f'The winning numbers are {winningHand}')\n",
    "    print(f'The numbers we have are {numbersHeld}')\n",
    "    print(f'We won with {len(numbersThatWon)} numbers')\n",
    "    print()\n",
    "    \n",
    "    # pointsCalculator = len(numbersThatWon)\n",
    "\n",
    "    # n=0\n",
    "    # tempTotal = 0\n",
    "    # while n < pointsCalculator:\n",
    "    #     n += 1\n",
    "    #     tempTotal = n * 2\n",
    "    # print(tempTotal)\n",
    "        \n",
    "\n",
    "\n",
    "#     pointsTotal.append(2^pointsCalculator)\n",
    "\n",
    "# print(sum(pointsTotal))"
   ]
  },
  {
   "cell_type": "code",
   "execution_count": 59,
   "metadata": {},
   "outputs": [],
   "source": [
    "with open(\"Scratchcard.txt\") as f:\n",
    "    data = f.read()"
   ]
  },
  {
   "cell_type": "code",
   "execution_count": 70,
   "metadata": {},
   "outputs": [
    {
     "name": "stdout",
     "output_type": "stream",
     "text": [
      "[512, 512, 512, 512, 16, 1, 2, 512, 512, 32, 512, 4, 32, 32, 256, 0, 4, 0, 16, 1, 2, 0, 0, 0, 512, 512, 512, 8, 0, 512, 32, 1, 8, 512, 128, 512, 8, 0, 32, 1, 0, 8, 0, 0, 1, 0, 512, 512, 512, 16, 512, 2, 512, 128, 512, 64, 64, 0, 1, 4, 2, 4, 1, 1, 0, 512, 512, 512, 128, 512, 512, 512, 0, 512, 0, 8, 0, 512, 8, 32, 64, 4, 1, 1, 0, 2, 0, 0, 0, 0, 0, 1, 512, 512, 512, 512, 4, 2, 512, 32, 32, 16, 2, 4, 0, 1, 1, 2, 1, 0, 512, 64, 4, 4, 512, 512, 512, 2, 1, 1, 1, 32, 4, 128, 16, 16, 16, 0, 1, 0, 1, 0, 1, 512, 512, 0, 128, 512, 512, 512, 0, 8, 512, 4, 128, 64, 256, 8, 64, 8, 16, 2, 1, 0, 0, 0, 16, 512, 0, 512, 512, 512, 512, 512, 512, 32, 2, 8, 0, 128, 256, 4, 128, 0, 8, 4, 2, 2, 0, 1, 0, 1, 512, 64, 512, 4, 512, 64, 128, 1, 16, 16, 32, 64, 256, 8, 4, 2, 16, 8, 4, 0, 1, 0, 0, 2, 512, 512, 256, 512, 1, 32, 0, 2, 8, 0, 16, 1, 4, 2, 0, 0, 0]\n",
      "32001\n"
     ]
    }
   ],
   "source": [
    "pointsTotal = []\n",
    "\n",
    "for line in data.splitlines():\n",
    "    \n",
    "    card, line = line.split(':')\n",
    "    game = card.split(' ')[1]\n",
    "    numbers1, numbers2 = line.split(\"|\")\n",
    "    winningHand = set(filter(None,numbers1.split(\" \")))\n",
    "    numbersHeld = set(filter(None,numbers2.split(\" \")))\n",
    "    numbersThatWon = set(winningHand)\n",
    "    numbersThatWon = [x for x in numbersHeld if x in numbersThatWon]\n",
    "    \n",
    "    # print(f'In game {game}:')\n",
    "    # print(f'The winning numbers are {winningHand}')\n",
    "    # print(f'The numbers we have are {numbersHeld}')\n",
    "    # print(f'We won with {len(numbersThatWon)} numbers')\n",
    "    # print()\n",
    "    \n",
    "    pointsCalculator = len(numbersThatWon)\n",
    "    # if pointsCalculator > 0:\n",
    "    #     if pointsCalculator <= 2:\n",
    "    #         pointsTotal.append(pointsCalculator)\n",
    "    #     else:\n",
    "    #         pointsTotal.append(pointsCalculator*2)\n",
    "\n",
    "\n",
    "    n=3\n",
    "    tempTotal = 2\n",
    "    while n <= pointsCalculator:\n",
    "        n += 1\n",
    "        tempTotal = tempTotal * 2\n",
    "    \n",
    "\n",
    "    if pointsCalculator < 2:\n",
    "        tempTotal = pointsCalculator\n",
    "    pointsTotal.append(tempTotal)\n",
    "\n",
    "print(pointsTotal)\n",
    "\n",
    "print(sum(pointsTotal))"
   ]
  }
 ],
 "metadata": {
  "kernelspec": {
   "display_name": "Python 3",
   "language": "python",
   "name": "python3"
  },
  "language_info": {
   "codemirror_mode": {
    "name": "ipython",
    "version": 3
   },
   "file_extension": ".py",
   "mimetype": "text/x-python",
   "name": "python",
   "nbconvert_exporter": "python",
   "pygments_lexer": "ipython3",
   "version": "3.12.0"
  }
 },
 "nbformat": 4,
 "nbformat_minor": 2
}
